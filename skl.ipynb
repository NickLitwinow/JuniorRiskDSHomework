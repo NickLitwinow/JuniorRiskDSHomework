{
 "cells": [
  {
   "cell_type": "markdown",
   "metadata": {},
   "source": [
    "# Imports"
   ]
  },
  {
   "cell_type": "code",
   "execution_count": 214,
   "metadata": {},
   "outputs": [
    {
     "name": "stderr",
     "output_type": "stream",
     "text": [
      "Intel(R) Extension for Scikit-learn* enabled (https://github.com/intel/scikit-learn-intelex)\n"
     ]
    }
   ],
   "source": [
    "import pandas as pd\n",
    "import numpy as np\n",
    "from numpy import mean\n",
    "from numpy import std\n",
    "import math\n",
    "import time\n",
    "\n",
    "import warnings\n",
    "warnings.filterwarnings('ignore')\n",
    "\n",
    "from sklearnex import patch_sklearn\n",
    "patch_sklearn()\n",
    "\n",
    "# from lazypredict.Supervised import LazyRegressor\n",
    "\n",
    "# Visualization\n",
    "import matplotlib.pyplot as plt\n",
    "from matplotlib import rcParams\n",
    "%matplotlib inline\n",
    "import seaborn as sns\n",
    "from plotly.subplots import make_subplots\n",
    "import plotly.graph_objects as go\n",
    "import plotly.express as px\n",
    "\n",
    "# Feature and Model Selection\n",
    "from sklearn.feature_selection import chi2\n",
    "from sklearn.feature_selection import SelectKBest\n",
    "from sklearn.model_selection import train_test_split\n",
    "from sklearn.model_selection import cross_val_score\n",
    "from sklearn.model_selection import RepeatedKFold\n",
    "from sklearn.model_selection import RepeatedStratifiedKFold\n",
    "from sklearn.model_selection import GridSearchCV\n",
    "from sklearn.impute import KNNImputer\n",
    "from sklearn.preprocessing import MinMaxScaler\n",
    "\n",
    "# Models\n",
    "from sklearn.ensemble import StackingClassifier\n",
    "from sklearn.linear_model import LogisticRegression\n",
    "from sklearn.svm import SVC\n",
    "from sklearn.naive_bayes import GaussianNB\n",
    "from sklearn.naive_bayes import MultinomialNB\n",
    "from sklearn.linear_model import SGDClassifier\n",
    "from sklearn.tree import DecisionTreeClassifier\n",
    "from sklearn.ensemble import RandomForestClassifier\n",
    "from sklearn.ensemble import GradientBoostingClassifier\n",
    "from lightgbm import LGBMClassifier\n",
    "from xgboost.sklearn import XGBClassifier"
   ]
  },
  {
   "cell_type": "markdown",
   "metadata": {},
   "source": [
    "# EDA"
   ]
  },
  {
   "cell_type": "code",
   "execution_count": 215,
   "metadata": {},
   "outputs": [],
   "source": [
    "# !wget https://raw.githubusercontent.com/BKHV/risk_models/master/data/PD-data-train.csv\n",
    "# !wget https://raw.githubusercontent.com/BKHV/risk_models/master/data/PD-data-test.csv\n",
    "# !wget https://raw.githubusercontent.com/BKHV/risk_models/master/data/PD-data-desc.csv"
   ]
  },
  {
   "cell_type": "code",
   "execution_count": 216,
   "metadata": {},
   "outputs": [],
   "source": [
    "train_df = pd.read_csv('PD-data-train.csv', sep=';')\n",
    "test_df = pd.read_csv('PD-data-test.csv', sep=';')\n",
    "desc_df = pd.read_csv('PD-data-desc.csv', sep=';')"
   ]
  },
  {
   "cell_type": "markdown",
   "metadata": {},
   "source": [
    "## Exploring Train Data"
   ]
  },
  {
   "cell_type": "code",
   "execution_count": 219,
   "metadata": {},
   "outputs": [
    {
     "name": "stdout",
     "output_type": "stream",
     "text": [
      "Number of rows in train_df:  32395\n",
      "Number of columns in train_df:  37\n",
      "Number of values in train_df:  835135\n",
      "Number of NaNs in train_df:  363480\n",
      "Number of NaNs in train_df in all columns:\n",
      "\n",
      "record_id                           0\n",
      "ar_revenue                      15145\n",
      "ar_total_expenses               15145\n",
      "ar_sale_cost                    15145\n",
      "ar_selling_expenses             15145\n",
      "ar_management_expenses          15145\n",
      "ar_sale_profit                  15145\n",
      "ar_balance_of_rvns_and_expns    15145\n",
      "ar_profit_before_tax            15145\n",
      "ar_taxes                        15145\n",
      "ar_other_profit_and_losses      15145\n",
      "ar_net_profit                   15145\n",
      "ab_immobilized_assets           15145\n",
      "ab_mobile_current_assets        15145\n",
      "ab_inventory                    15145\n",
      "ab_accounts_receivable          15145\n",
      "ab_other_current_assets         15145\n",
      "ab_cash_and_securities          15145\n",
      "ab_losses                       15145\n",
      "ab_own_capital                  15145\n",
      "ab_borrowed_capital             15145\n",
      "ab_long_term_liabilities        15145\n",
      "ab_short_term_borrowing         15145\n",
      "ab_accounts_payable             15145\n",
      "ab_other_borrowings             15145\n",
      "bus_age                             0\n",
      "ogrn_age                            0\n",
      "adr_actual_age                      0\n",
      "head_actual_age                     0\n",
      "cap_actual_age                      0\n",
      "ul_staff_range                      0\n",
      "ul_capital_sum                      0\n",
      "ul_founders_cnt                     0\n",
      "ul_branch_cnt                       0\n",
      "ul_strategic_flg                    0\n",
      "ul_systematizing_flg                0\n",
      "default_12m                         0\n",
      "dtype: int64\n"
     ]
    }
   ],
   "source": [
    "print('Number of rows in train_df: ', train_df.shape[0])\n",
    "print('Number of columns in train_df: ', train_df.shape[1])\n",
    "print('Number of values in train_df: ', train_df.count().sum())\n",
    "print('Number of NaNs in train_df: ', sum(train_df.isna().sum()))\n",
    "print('Number of NaNs in train_df in all columns:\\n')\n",
    "print(train_df.isna().sum())"
   ]
  },
  {
   "cell_type": "code",
   "execution_count": 220,
   "metadata": {},
   "outputs": [
    {
     "data": {
      "text/html": [
       "<div>\n",
       "<style scoped>\n",
       "    .dataframe tbody tr th:only-of-type {\n",
       "        vertical-align: middle;\n",
       "    }\n",
       "\n",
       "    .dataframe tbody tr th {\n",
       "        vertical-align: top;\n",
       "    }\n",
       "\n",
       "    .dataframe thead th {\n",
       "        text-align: right;\n",
       "    }\n",
       "</style>\n",
       "<table border=\"1\" class=\"dataframe\">\n",
       "  <thead>\n",
       "    <tr style=\"text-align: right;\">\n",
       "      <th></th>\n",
       "      <th>record_id</th>\n",
       "      <th>ar_revenue</th>\n",
       "      <th>ar_total_expenses</th>\n",
       "      <th>ar_sale_cost</th>\n",
       "      <th>ar_selling_expenses</th>\n",
       "      <th>ar_management_expenses</th>\n",
       "      <th>ar_sale_profit</th>\n",
       "      <th>ar_balance_of_rvns_and_expns</th>\n",
       "      <th>ar_profit_before_tax</th>\n",
       "      <th>ar_taxes</th>\n",
       "      <th>...</th>\n",
       "      <th>ogrn_age</th>\n",
       "      <th>adr_actual_age</th>\n",
       "      <th>head_actual_age</th>\n",
       "      <th>cap_actual_age</th>\n",
       "      <th>ul_capital_sum</th>\n",
       "      <th>ul_founders_cnt</th>\n",
       "      <th>ul_branch_cnt</th>\n",
       "      <th>ul_strategic_flg</th>\n",
       "      <th>ul_systematizing_flg</th>\n",
       "      <th>default_12m</th>\n",
       "    </tr>\n",
       "  </thead>\n",
       "  <tbody>\n",
       "    <tr>\n",
       "      <th>count</th>\n",
       "      <td>32395.000000</td>\n",
       "      <td>1.725000e+04</td>\n",
       "      <td>1.725000e+04</td>\n",
       "      <td>1.725000e+04</td>\n",
       "      <td>1.725000e+04</td>\n",
       "      <td>1.725000e+04</td>\n",
       "      <td>1.725000e+04</td>\n",
       "      <td>1.725000e+04</td>\n",
       "      <td>1.725000e+04</td>\n",
       "      <td>1.725000e+04</td>\n",
       "      <td>...</td>\n",
       "      <td>32395.000000</td>\n",
       "      <td>32395.000000</td>\n",
       "      <td>32395.000000</td>\n",
       "      <td>32395.000000</td>\n",
       "      <td>3.239500e+04</td>\n",
       "      <td>32395.000000</td>\n",
       "      <td>32395.000000</td>\n",
       "      <td>32395.000000</td>\n",
       "      <td>32395.0</td>\n",
       "      <td>32395.000000</td>\n",
       "    </tr>\n",
       "    <tr>\n",
       "      <th>mean</th>\n",
       "      <td>136955.533601</td>\n",
       "      <td>8.153776e+07</td>\n",
       "      <td>7.678474e+07</td>\n",
       "      <td>7.320328e+07</td>\n",
       "      <td>2.499198e+06</td>\n",
       "      <td>1.082263e+06</td>\n",
       "      <td>4.753016e+06</td>\n",
       "      <td>-6.424773e+05</td>\n",
       "      <td>4.110538e+06</td>\n",
       "      <td>4.188071e+05</td>\n",
       "      <td>...</td>\n",
       "      <td>78.644822</td>\n",
       "      <td>15.010341</td>\n",
       "      <td>15.010341</td>\n",
       "      <td>15.010341</td>\n",
       "      <td>1.366509e+06</td>\n",
       "      <td>11.946535</td>\n",
       "      <td>0.021670</td>\n",
       "      <td>0.000093</td>\n",
       "      <td>0.0</td>\n",
       "      <td>0.064547</td>\n",
       "    </tr>\n",
       "    <tr>\n",
       "      <th>std</th>\n",
       "      <td>79370.573366</td>\n",
       "      <td>1.274402e+08</td>\n",
       "      <td>1.227227e+08</td>\n",
       "      <td>1.156651e+08</td>\n",
       "      <td>1.231798e+07</td>\n",
       "      <td>7.848929e+06</td>\n",
       "      <td>1.941027e+07</td>\n",
       "      <td>6.014715e+06</td>\n",
       "      <td>1.938021e+07</td>\n",
       "      <td>1.565298e+06</td>\n",
       "      <td>...</td>\n",
       "      <td>46.522534</td>\n",
       "      <td>9.546511</td>\n",
       "      <td>9.546511</td>\n",
       "      <td>9.546511</td>\n",
       "      <td>1.502438e+07</td>\n",
       "      <td>86.341847</td>\n",
       "      <td>0.342715</td>\n",
       "      <td>0.009623</td>\n",
       "      <td>0.0</td>\n",
       "      <td>0.245729</td>\n",
       "    </tr>\n",
       "    <tr>\n",
       "      <th>min</th>\n",
       "      <td>7.000000</td>\n",
       "      <td>0.000000e+00</td>\n",
       "      <td>-7.019840e+08</td>\n",
       "      <td>-5.072780e+08</td>\n",
       "      <td>-3.542900e+07</td>\n",
       "      <td>-1.921670e+08</td>\n",
       "      <td>-9.210000e+07</td>\n",
       "      <td>-7.581800e+07</td>\n",
       "      <td>-5.946600e+07</td>\n",
       "      <td>-1.681000e+07</td>\n",
       "      <td>...</td>\n",
       "      <td>0.000000</td>\n",
       "      <td>1.000000</td>\n",
       "      <td>1.000000</td>\n",
       "      <td>1.000000</td>\n",
       "      <td>0.000000e+00</td>\n",
       "      <td>1.000000</td>\n",
       "      <td>0.000000</td>\n",
       "      <td>0.000000</td>\n",
       "      <td>0.0</td>\n",
       "      <td>0.000000</td>\n",
       "    </tr>\n",
       "    <tr>\n",
       "      <th>25%</th>\n",
       "      <td>67912.000000</td>\n",
       "      <td>1.019950e+07</td>\n",
       "      <td>9.130250e+06</td>\n",
       "      <td>8.844000e+06</td>\n",
       "      <td>0.000000e+00</td>\n",
       "      <td>0.000000e+00</td>\n",
       "      <td>2.112500e+05</td>\n",
       "      <td>-9.400000e+05</td>\n",
       "      <td>1.420000e+05</td>\n",
       "      <td>0.000000e+00</td>\n",
       "      <td>...</td>\n",
       "      <td>35.000000</td>\n",
       "      <td>6.000000</td>\n",
       "      <td>6.000000</td>\n",
       "      <td>6.000000</td>\n",
       "      <td>1.000000e+04</td>\n",
       "      <td>1.000000</td>\n",
       "      <td>0.000000</td>\n",
       "      <td>0.000000</td>\n",
       "      <td>0.0</td>\n",
       "      <td>0.000000</td>\n",
       "    </tr>\n",
       "    <tr>\n",
       "      <th>50%</th>\n",
       "      <td>137527.000000</td>\n",
       "      <td>3.233500e+07</td>\n",
       "      <td>2.970350e+07</td>\n",
       "      <td>2.840800e+07</td>\n",
       "      <td>0.000000e+00</td>\n",
       "      <td>0.000000e+00</td>\n",
       "      <td>1.231500e+06</td>\n",
       "      <td>-1.260000e+05</td>\n",
       "      <td>8.500000e+05</td>\n",
       "      <td>4.100000e+04</td>\n",
       "      <td>...</td>\n",
       "      <td>77.000000</td>\n",
       "      <td>14.000000</td>\n",
       "      <td>14.000000</td>\n",
       "      <td>14.000000</td>\n",
       "      <td>1.000000e+04</td>\n",
       "      <td>1.000000</td>\n",
       "      <td>0.000000</td>\n",
       "      <td>0.000000</td>\n",
       "      <td>0.0</td>\n",
       "      <td>0.000000</td>\n",
       "    </tr>\n",
       "    <tr>\n",
       "      <th>75%</th>\n",
       "      <td>205633.500000</td>\n",
       "      <td>8.887675e+07</td>\n",
       "      <td>8.309500e+07</td>\n",
       "      <td>7.991425e+07</td>\n",
       "      <td>0.000000e+00</td>\n",
       "      <td>0.000000e+00</td>\n",
       "      <td>4.574750e+06</td>\n",
       "      <td>0.000000e+00</td>\n",
       "      <td>3.543750e+06</td>\n",
       "      <td>2.910000e+05</td>\n",
       "      <td>...</td>\n",
       "      <td>133.000000</td>\n",
       "      <td>24.000000</td>\n",
       "      <td>24.000000</td>\n",
       "      <td>24.000000</td>\n",
       "      <td>3.000000e+04</td>\n",
       "      <td>2.000000</td>\n",
       "      <td>0.000000</td>\n",
       "      <td>0.000000</td>\n",
       "      <td>0.0</td>\n",
       "      <td>0.000000</td>\n",
       "    </tr>\n",
       "    <tr>\n",
       "      <th>max</th>\n",
       "      <td>274623.000000</td>\n",
       "      <td>7.946840e+08</td>\n",
       "      <td>7.949360e+08</td>\n",
       "      <td>7.624930e+08</td>\n",
       "      <td>2.746560e+08</td>\n",
       "      <td>3.023550e+08</td>\n",
       "      <td>1.434511e+09</td>\n",
       "      <td>1.584250e+08</td>\n",
       "      <td>1.481526e+09</td>\n",
       "      <td>5.420200e+07</td>\n",
       "      <td>...</td>\n",
       "      <td>149.000000</td>\n",
       "      <td>33.000000</td>\n",
       "      <td>33.000000</td>\n",
       "      <td>33.000000</td>\n",
       "      <td>1.584979e+09</td>\n",
       "      <td>998.000000</td>\n",
       "      <td>20.000000</td>\n",
       "      <td>1.000000</td>\n",
       "      <td>0.0</td>\n",
       "      <td>1.000000</td>\n",
       "    </tr>\n",
       "  </tbody>\n",
       "</table>\n",
       "<p>8 rows × 36 columns</p>\n",
       "</div>"
      ],
      "text/plain": [
       "           record_id    ar_revenue  ar_total_expenses  ar_sale_cost  \\\n",
       "count   32395.000000  1.725000e+04       1.725000e+04  1.725000e+04   \n",
       "mean   136955.533601  8.153776e+07       7.678474e+07  7.320328e+07   \n",
       "std     79370.573366  1.274402e+08       1.227227e+08  1.156651e+08   \n",
       "min         7.000000  0.000000e+00      -7.019840e+08 -5.072780e+08   \n",
       "25%     67912.000000  1.019950e+07       9.130250e+06  8.844000e+06   \n",
       "50%    137527.000000  3.233500e+07       2.970350e+07  2.840800e+07   \n",
       "75%    205633.500000  8.887675e+07       8.309500e+07  7.991425e+07   \n",
       "max    274623.000000  7.946840e+08       7.949360e+08  7.624930e+08   \n",
       "\n",
       "       ar_selling_expenses  ar_management_expenses  ar_sale_profit  \\\n",
       "count         1.725000e+04            1.725000e+04    1.725000e+04   \n",
       "mean          2.499198e+06            1.082263e+06    4.753016e+06   \n",
       "std           1.231798e+07            7.848929e+06    1.941027e+07   \n",
       "min          -3.542900e+07           -1.921670e+08   -9.210000e+07   \n",
       "25%           0.000000e+00            0.000000e+00    2.112500e+05   \n",
       "50%           0.000000e+00            0.000000e+00    1.231500e+06   \n",
       "75%           0.000000e+00            0.000000e+00    4.574750e+06   \n",
       "max           2.746560e+08            3.023550e+08    1.434511e+09   \n",
       "\n",
       "       ar_balance_of_rvns_and_expns  ar_profit_before_tax      ar_taxes  ...  \\\n",
       "count                  1.725000e+04          1.725000e+04  1.725000e+04  ...   \n",
       "mean                  -6.424773e+05          4.110538e+06  4.188071e+05  ...   \n",
       "std                    6.014715e+06          1.938021e+07  1.565298e+06  ...   \n",
       "min                   -7.581800e+07         -5.946600e+07 -1.681000e+07  ...   \n",
       "25%                   -9.400000e+05          1.420000e+05  0.000000e+00  ...   \n",
       "50%                   -1.260000e+05          8.500000e+05  4.100000e+04  ...   \n",
       "75%                    0.000000e+00          3.543750e+06  2.910000e+05  ...   \n",
       "max                    1.584250e+08          1.481526e+09  5.420200e+07  ...   \n",
       "\n",
       "           ogrn_age  adr_actual_age  head_actual_age  cap_actual_age  \\\n",
       "count  32395.000000    32395.000000     32395.000000    32395.000000   \n",
       "mean      78.644822       15.010341        15.010341       15.010341   \n",
       "std       46.522534        9.546511         9.546511        9.546511   \n",
       "min        0.000000        1.000000         1.000000        1.000000   \n",
       "25%       35.000000        6.000000         6.000000        6.000000   \n",
       "50%       77.000000       14.000000        14.000000       14.000000   \n",
       "75%      133.000000       24.000000        24.000000       24.000000   \n",
       "max      149.000000       33.000000        33.000000       33.000000   \n",
       "\n",
       "       ul_capital_sum  ul_founders_cnt  ul_branch_cnt  ul_strategic_flg  \\\n",
       "count    3.239500e+04     32395.000000   32395.000000      32395.000000   \n",
       "mean     1.366509e+06        11.946535       0.021670          0.000093   \n",
       "std      1.502438e+07        86.341847       0.342715          0.009623   \n",
       "min      0.000000e+00         1.000000       0.000000          0.000000   \n",
       "25%      1.000000e+04         1.000000       0.000000          0.000000   \n",
       "50%      1.000000e+04         1.000000       0.000000          0.000000   \n",
       "75%      3.000000e+04         2.000000       0.000000          0.000000   \n",
       "max      1.584979e+09       998.000000      20.000000          1.000000   \n",
       "\n",
       "       ul_systematizing_flg   default_12m  \n",
       "count               32395.0  32395.000000  \n",
       "mean                    0.0      0.064547  \n",
       "std                     0.0      0.245729  \n",
       "min                     0.0      0.000000  \n",
       "25%                     0.0      0.000000  \n",
       "50%                     0.0      0.000000  \n",
       "75%                     0.0      0.000000  \n",
       "max                     0.0      1.000000  \n",
       "\n",
       "[8 rows x 36 columns]"
      ]
     },
     "execution_count": 220,
     "metadata": {},
     "output_type": "execute_result"
    }
   ],
   "source": [
    "train_df.describe()"
   ]
  },
  {
   "cell_type": "code",
   "execution_count": 221,
   "metadata": {},
   "outputs": [
    {
     "data": {
      "text/plain": [
       "record_id                         int64\n",
       "ar_revenue                      float64\n",
       "ar_total_expenses               float64\n",
       "ar_sale_cost                    float64\n",
       "ar_selling_expenses             float64\n",
       "ar_management_expenses          float64\n",
       "ar_sale_profit                  float64\n",
       "ar_balance_of_rvns_and_expns    float64\n",
       "ar_profit_before_tax            float64\n",
       "ar_taxes                        float64\n",
       "ar_other_profit_and_losses      float64\n",
       "ar_net_profit                   float64\n",
       "ab_immobilized_assets           float64\n",
       "ab_mobile_current_assets        float64\n",
       "ab_inventory                    float64\n",
       "ab_accounts_receivable          float64\n",
       "ab_other_current_assets         float64\n",
       "ab_cash_and_securities          float64\n",
       "ab_losses                       float64\n",
       "ab_own_capital                  float64\n",
       "ab_borrowed_capital             float64\n",
       "ab_long_term_liabilities        float64\n",
       "ab_short_term_borrowing         float64\n",
       "ab_accounts_payable             float64\n",
       "ab_other_borrowings             float64\n",
       "bus_age                           int64\n",
       "ogrn_age                          int64\n",
       "adr_actual_age                    int64\n",
       "head_actual_age                   int64\n",
       "cap_actual_age                    int64\n",
       "ul_staff_range                   object\n",
       "ul_capital_sum                  float64\n",
       "ul_founders_cnt                   int64\n",
       "ul_branch_cnt                     int64\n",
       "ul_strategic_flg                  int64\n",
       "ul_systematizing_flg              int64\n",
       "default_12m                       int64\n",
       "dtype: object"
      ]
     },
     "execution_count": 221,
     "metadata": {},
     "output_type": "execute_result"
    }
   ],
   "source": [
    "train_df.dtypes"
   ]
  },
  {
   "cell_type": "markdown",
   "metadata": {},
   "source": [
    "## Exploring Test Data"
   ]
  },
  {
   "cell_type": "code",
   "execution_count": 222,
   "metadata": {},
   "outputs": [
    {
     "data": {
      "text/html": [
       "<div>\n",
       "<style scoped>\n",
       "    .dataframe tbody tr th:only-of-type {\n",
       "        vertical-align: middle;\n",
       "    }\n",
       "\n",
       "    .dataframe tbody tr th {\n",
       "        vertical-align: top;\n",
       "    }\n",
       "\n",
       "    .dataframe thead th {\n",
       "        text-align: right;\n",
       "    }\n",
       "</style>\n",
       "<table border=\"1\" class=\"dataframe\">\n",
       "  <thead>\n",
       "    <tr style=\"text-align: right;\">\n",
       "      <th></th>\n",
       "      <th>record_id</th>\n",
       "      <th>ar_revenue</th>\n",
       "      <th>ar_total_expenses</th>\n",
       "      <th>ar_sale_cost</th>\n",
       "      <th>ar_selling_expenses</th>\n",
       "      <th>ar_management_expenses</th>\n",
       "      <th>ar_sale_profit</th>\n",
       "      <th>ar_balance_of_rvns_and_expns</th>\n",
       "      <th>ar_profit_before_tax</th>\n",
       "      <th>ar_taxes</th>\n",
       "      <th>...</th>\n",
       "      <th>ogrn_age</th>\n",
       "      <th>adr_actual_age</th>\n",
       "      <th>head_actual_age</th>\n",
       "      <th>cap_actual_age</th>\n",
       "      <th>ul_staff_range</th>\n",
       "      <th>ul_capital_sum</th>\n",
       "      <th>ul_founders_cnt</th>\n",
       "      <th>ul_branch_cnt</th>\n",
       "      <th>ul_strategic_flg</th>\n",
       "      <th>ul_systematizing_flg</th>\n",
       "    </tr>\n",
       "  </thead>\n",
       "  <tbody>\n",
       "    <tr>\n",
       "      <th>0</th>\n",
       "      <td>196</td>\n",
       "      <td>39103000.0</td>\n",
       "      <td>38913000.0</td>\n",
       "      <td>38913000.0</td>\n",
       "      <td>0.0</td>\n",
       "      <td>0.0</td>\n",
       "      <td>190000.0</td>\n",
       "      <td>141000.0</td>\n",
       "      <td>331000.0</td>\n",
       "      <td>284000.0</td>\n",
       "      <td>...</td>\n",
       "      <td>135</td>\n",
       "      <td>3</td>\n",
       "      <td>3</td>\n",
       "      <td>3</td>\n",
       "      <td>[1-100]</td>\n",
       "      <td>100000.0</td>\n",
       "      <td>1</td>\n",
       "      <td>0</td>\n",
       "      <td>0</td>\n",
       "      <td>0</td>\n",
       "    </tr>\n",
       "    <tr>\n",
       "      <th>1</th>\n",
       "      <td>1196</td>\n",
       "      <td>NaN</td>\n",
       "      <td>NaN</td>\n",
       "      <td>NaN</td>\n",
       "      <td>NaN</td>\n",
       "      <td>NaN</td>\n",
       "      <td>NaN</td>\n",
       "      <td>NaN</td>\n",
       "      <td>NaN</td>\n",
       "      <td>NaN</td>\n",
       "      <td>...</td>\n",
       "      <td>138</td>\n",
       "      <td>5</td>\n",
       "      <td>5</td>\n",
       "      <td>5</td>\n",
       "      <td>[1-100]</td>\n",
       "      <td>100000.0</td>\n",
       "      <td>1</td>\n",
       "      <td>0</td>\n",
       "      <td>0</td>\n",
       "      <td>0</td>\n",
       "    </tr>\n",
       "    <tr>\n",
       "      <th>2</th>\n",
       "      <td>2813</td>\n",
       "      <td>54174000.0</td>\n",
       "      <td>50929000.0</td>\n",
       "      <td>50929000.0</td>\n",
       "      <td>0.0</td>\n",
       "      <td>0.0</td>\n",
       "      <td>3245000.0</td>\n",
       "      <td>-1278000.0</td>\n",
       "      <td>1967000.0</td>\n",
       "      <td>500000.0</td>\n",
       "      <td>...</td>\n",
       "      <td>138</td>\n",
       "      <td>20</td>\n",
       "      <td>20</td>\n",
       "      <td>20</td>\n",
       "      <td>[1-100]</td>\n",
       "      <td>250000.0</td>\n",
       "      <td>2</td>\n",
       "      <td>0</td>\n",
       "      <td>0</td>\n",
       "      <td>0</td>\n",
       "    </tr>\n",
       "    <tr>\n",
       "      <th>3</th>\n",
       "      <td>4385</td>\n",
       "      <td>1904000.0</td>\n",
       "      <td>1679000.0</td>\n",
       "      <td>1679000.0</td>\n",
       "      <td>0.0</td>\n",
       "      <td>0.0</td>\n",
       "      <td>225000.0</td>\n",
       "      <td>-88000.0</td>\n",
       "      <td>137000.0</td>\n",
       "      <td>0.0</td>\n",
       "      <td>...</td>\n",
       "      <td>139</td>\n",
       "      <td>9</td>\n",
       "      <td>9</td>\n",
       "      <td>9</td>\n",
       "      <td>[1-100]</td>\n",
       "      <td>10000.0</td>\n",
       "      <td>2</td>\n",
       "      <td>0</td>\n",
       "      <td>0</td>\n",
       "      <td>0</td>\n",
       "    </tr>\n",
       "    <tr>\n",
       "      <th>4</th>\n",
       "      <td>6479</td>\n",
       "      <td>225584000.0</td>\n",
       "      <td>210685000.0</td>\n",
       "      <td>210685000.0</td>\n",
       "      <td>0.0</td>\n",
       "      <td>0.0</td>\n",
       "      <td>14899000.0</td>\n",
       "      <td>-12715000.0</td>\n",
       "      <td>2184000.0</td>\n",
       "      <td>445000.0</td>\n",
       "      <td>...</td>\n",
       "      <td>139</td>\n",
       "      <td>3</td>\n",
       "      <td>3</td>\n",
       "      <td>3</td>\n",
       "      <td>(100-500]</td>\n",
       "      <td>1700598.0</td>\n",
       "      <td>84</td>\n",
       "      <td>0</td>\n",
       "      <td>0</td>\n",
       "      <td>0</td>\n",
       "    </tr>\n",
       "  </tbody>\n",
       "</table>\n",
       "<p>5 rows × 36 columns</p>\n",
       "</div>"
      ],
      "text/plain": [
       "   record_id   ar_revenue  ar_total_expenses  ar_sale_cost  \\\n",
       "0        196   39103000.0         38913000.0    38913000.0   \n",
       "1       1196          NaN                NaN           NaN   \n",
       "2       2813   54174000.0         50929000.0    50929000.0   \n",
       "3       4385    1904000.0          1679000.0     1679000.0   \n",
       "4       6479  225584000.0        210685000.0   210685000.0   \n",
       "\n",
       "   ar_selling_expenses  ar_management_expenses  ar_sale_profit  \\\n",
       "0                  0.0                     0.0        190000.0   \n",
       "1                  NaN                     NaN             NaN   \n",
       "2                  0.0                     0.0       3245000.0   \n",
       "3                  0.0                     0.0        225000.0   \n",
       "4                  0.0                     0.0      14899000.0   \n",
       "\n",
       "   ar_balance_of_rvns_and_expns  ar_profit_before_tax  ar_taxes  ...  \\\n",
       "0                      141000.0              331000.0  284000.0  ...   \n",
       "1                           NaN                   NaN       NaN  ...   \n",
       "2                    -1278000.0             1967000.0  500000.0  ...   \n",
       "3                      -88000.0              137000.0       0.0  ...   \n",
       "4                   -12715000.0             2184000.0  445000.0  ...   \n",
       "\n",
       "   ogrn_age  adr_actual_age  head_actual_age  cap_actual_age  ul_staff_range  \\\n",
       "0       135               3                3               3         [1-100]   \n",
       "1       138               5                5               5         [1-100]   \n",
       "2       138              20               20              20         [1-100]   \n",
       "3       139               9                9               9         [1-100]   \n",
       "4       139               3                3               3       (100-500]   \n",
       "\n",
       "   ul_capital_sum  ul_founders_cnt  ul_branch_cnt  ul_strategic_flg  \\\n",
       "0        100000.0                1              0                 0   \n",
       "1        100000.0                1              0                 0   \n",
       "2        250000.0                2              0                 0   \n",
       "3         10000.0                2              0                 0   \n",
       "4       1700598.0               84              0                 0   \n",
       "\n",
       "   ul_systematizing_flg  \n",
       "0                     0  \n",
       "1                     0  \n",
       "2                     0  \n",
       "3                     0  \n",
       "4                     0  \n",
       "\n",
       "[5 rows x 36 columns]"
      ]
     },
     "execution_count": 222,
     "metadata": {},
     "output_type": "execute_result"
    }
   ],
   "source": [
    "test_df.head()"
   ]
  },
  {
   "cell_type": "code",
   "execution_count": 223,
   "metadata": {},
   "outputs": [
    {
     "name": "stdout",
     "output_type": "stream",
     "text": [
      "Number of rows in test_df:  200\n",
      "Number of columns in test_df:  36\n",
      "Number of values in test_df:  4368\n",
      "Number of NaNs in test_df:  2832\n",
      "Number of NaNs in test_df in all columns:\n",
      "\n",
      "record_id                         0\n",
      "ar_revenue                      118\n",
      "ar_total_expenses               118\n",
      "ar_sale_cost                    118\n",
      "ar_selling_expenses             118\n",
      "ar_management_expenses          118\n",
      "ar_sale_profit                  118\n",
      "ar_balance_of_rvns_and_expns    118\n",
      "ar_profit_before_tax            118\n",
      "ar_taxes                        118\n",
      "ar_other_profit_and_losses      118\n",
      "ar_net_profit                   118\n",
      "ab_immobilized_assets           118\n",
      "ab_mobile_current_assets        118\n",
      "ab_inventory                    118\n",
      "ab_accounts_receivable          118\n",
      "ab_other_current_assets         118\n",
      "ab_cash_and_securities          118\n",
      "ab_losses                       118\n",
      "ab_own_capital                  118\n",
      "ab_borrowed_capital             118\n",
      "ab_long_term_liabilities        118\n",
      "ab_short_term_borrowing         118\n",
      "ab_accounts_payable             118\n",
      "ab_other_borrowings             118\n",
      "bus_age                           0\n",
      "ogrn_age                          0\n",
      "adr_actual_age                    0\n",
      "head_actual_age                   0\n",
      "cap_actual_age                    0\n",
      "ul_staff_range                    0\n",
      "ul_capital_sum                    0\n",
      "ul_founders_cnt                   0\n",
      "ul_branch_cnt                     0\n",
      "ul_strategic_flg                  0\n",
      "ul_systematizing_flg              0\n",
      "dtype: int64\n"
     ]
    }
   ],
   "source": [
    "print('Number of rows in test_df: ', test_df.shape[0])\n",
    "print('Number of columns in test_df: ', test_df.shape[1])\n",
    "print('Number of values in test_df: ', test_df.count().sum())\n",
    "print('Number of NaNs in test_df: ', sum(test_df.isna().sum()))\n",
    "print('Number of NaNs in test_df in all columns:\\n')\n",
    "print(test_df.isna().sum())"
   ]
  },
  {
   "cell_type": "code",
   "execution_count": 224,
   "metadata": {},
   "outputs": [
    {
     "data": {
      "text/html": [
       "<div>\n",
       "<style scoped>\n",
       "    .dataframe tbody tr th:only-of-type {\n",
       "        vertical-align: middle;\n",
       "    }\n",
       "\n",
       "    .dataframe tbody tr th {\n",
       "        vertical-align: top;\n",
       "    }\n",
       "\n",
       "    .dataframe thead th {\n",
       "        text-align: right;\n",
       "    }\n",
       "</style>\n",
       "<table border=\"1\" class=\"dataframe\">\n",
       "  <thead>\n",
       "    <tr style=\"text-align: right;\">\n",
       "      <th></th>\n",
       "      <th>record_id</th>\n",
       "      <th>ar_revenue</th>\n",
       "      <th>ar_total_expenses</th>\n",
       "      <th>ar_sale_cost</th>\n",
       "      <th>ar_selling_expenses</th>\n",
       "      <th>ar_management_expenses</th>\n",
       "      <th>ar_sale_profit</th>\n",
       "      <th>ar_balance_of_rvns_and_expns</th>\n",
       "      <th>ar_profit_before_tax</th>\n",
       "      <th>ar_taxes</th>\n",
       "      <th>...</th>\n",
       "      <th>bus_age</th>\n",
       "      <th>ogrn_age</th>\n",
       "      <th>adr_actual_age</th>\n",
       "      <th>head_actual_age</th>\n",
       "      <th>cap_actual_age</th>\n",
       "      <th>ul_capital_sum</th>\n",
       "      <th>ul_founders_cnt</th>\n",
       "      <th>ul_branch_cnt</th>\n",
       "      <th>ul_strategic_flg</th>\n",
       "      <th>ul_systematizing_flg</th>\n",
       "    </tr>\n",
       "  </thead>\n",
       "  <tbody>\n",
       "    <tr>\n",
       "      <th>count</th>\n",
       "      <td>200.000000</td>\n",
       "      <td>8.200000e+01</td>\n",
       "      <td>8.200000e+01</td>\n",
       "      <td>8.200000e+01</td>\n",
       "      <td>8.200000e+01</td>\n",
       "      <td>8.200000e+01</td>\n",
       "      <td>8.200000e+01</td>\n",
       "      <td>8.200000e+01</td>\n",
       "      <td>8.200000e+01</td>\n",
       "      <td>8.200000e+01</td>\n",
       "      <td>...</td>\n",
       "      <td>200.000000</td>\n",
       "      <td>200.000000</td>\n",
       "      <td>200.000000</td>\n",
       "      <td>200.000000</td>\n",
       "      <td>200.000000</td>\n",
       "      <td>2.000000e+02</td>\n",
       "      <td>200.000000</td>\n",
       "      <td>200.0</td>\n",
       "      <td>200.0</td>\n",
       "      <td>200.0</td>\n",
       "    </tr>\n",
       "    <tr>\n",
       "      <th>mean</th>\n",
       "      <td>135340.925000</td>\n",
       "      <td>8.625971e+07</td>\n",
       "      <td>8.200218e+07</td>\n",
       "      <td>7.694863e+07</td>\n",
       "      <td>2.780183e+06</td>\n",
       "      <td>2.273366e+06</td>\n",
       "      <td>4.257524e+06</td>\n",
       "      <td>-6.880854e+05</td>\n",
       "      <td>3.569439e+06</td>\n",
       "      <td>4.419878e+05</td>\n",
       "      <td>...</td>\n",
       "      <td>84.595000</td>\n",
       "      <td>65.680000</td>\n",
       "      <td>14.320000</td>\n",
       "      <td>14.320000</td>\n",
       "      <td>14.320000</td>\n",
       "      <td>7.263560e+05</td>\n",
       "      <td>5.070000</td>\n",
       "      <td>0.0</td>\n",
       "      <td>0.0</td>\n",
       "      <td>0.0</td>\n",
       "    </tr>\n",
       "    <tr>\n",
       "      <th>std</th>\n",
       "      <td>80177.086856</td>\n",
       "      <td>1.589030e+08</td>\n",
       "      <td>1.534092e+08</td>\n",
       "      <td>1.372651e+08</td>\n",
       "      <td>1.180692e+07</td>\n",
       "      <td>1.752820e+07</td>\n",
       "      <td>7.752518e+06</td>\n",
       "      <td>5.253569e+06</td>\n",
       "      <td>8.232787e+06</td>\n",
       "      <td>1.294710e+06</td>\n",
       "      <td>...</td>\n",
       "      <td>80.585115</td>\n",
       "      <td>46.096442</td>\n",
       "      <td>9.697308</td>\n",
       "      <td>9.697308</td>\n",
       "      <td>9.697308</td>\n",
       "      <td>4.043191e+06</td>\n",
       "      <td>32.669582</td>\n",
       "      <td>0.0</td>\n",
       "      <td>0.0</td>\n",
       "      <td>0.0</td>\n",
       "    </tr>\n",
       "    <tr>\n",
       "      <th>min</th>\n",
       "      <td>196.000000</td>\n",
       "      <td>0.000000e+00</td>\n",
       "      <td>0.000000e+00</td>\n",
       "      <td>0.000000e+00</td>\n",
       "      <td>0.000000e+00</td>\n",
       "      <td>0.000000e+00</td>\n",
       "      <td>-4.898000e+06</td>\n",
       "      <td>-2.328100e+07</td>\n",
       "      <td>-6.390000e+06</td>\n",
       "      <td>-1.100000e+04</td>\n",
       "      <td>...</td>\n",
       "      <td>1.000000</td>\n",
       "      <td>1.000000</td>\n",
       "      <td>1.000000</td>\n",
       "      <td>1.000000</td>\n",
       "      <td>1.000000</td>\n",
       "      <td>0.000000e+00</td>\n",
       "      <td>1.000000</td>\n",
       "      <td>0.0</td>\n",
       "      <td>0.0</td>\n",
       "      <td>0.0</td>\n",
       "    </tr>\n",
       "    <tr>\n",
       "      <th>25%</th>\n",
       "      <td>68367.500000</td>\n",
       "      <td>6.779250e+06</td>\n",
       "      <td>5.397500e+06</td>\n",
       "      <td>5.397500e+06</td>\n",
       "      <td>0.000000e+00</td>\n",
       "      <td>0.000000e+00</td>\n",
       "      <td>1.557500e+05</td>\n",
       "      <td>-6.570000e+05</td>\n",
       "      <td>1.265000e+05</td>\n",
       "      <td>0.000000e+00</td>\n",
       "      <td>...</td>\n",
       "      <td>25.000000</td>\n",
       "      <td>25.000000</td>\n",
       "      <td>5.000000</td>\n",
       "      <td>5.000000</td>\n",
       "      <td>5.000000</td>\n",
       "      <td>1.000000e+04</td>\n",
       "      <td>1.000000</td>\n",
       "      <td>0.0</td>\n",
       "      <td>0.0</td>\n",
       "      <td>0.0</td>\n",
       "    </tr>\n",
       "    <tr>\n",
       "      <th>50%</th>\n",
       "      <td>127585.500000</td>\n",
       "      <td>1.899700e+07</td>\n",
       "      <td>1.645600e+07</td>\n",
       "      <td>1.587850e+07</td>\n",
       "      <td>0.000000e+00</td>\n",
       "      <td>0.000000e+00</td>\n",
       "      <td>1.184000e+06</td>\n",
       "      <td>-5.800000e+04</td>\n",
       "      <td>5.450000e+05</td>\n",
       "      <td>7.350000e+04</td>\n",
       "      <td>...</td>\n",
       "      <td>57.000000</td>\n",
       "      <td>54.500000</td>\n",
       "      <td>12.500000</td>\n",
       "      <td>12.500000</td>\n",
       "      <td>12.500000</td>\n",
       "      <td>1.000000e+04</td>\n",
       "      <td>1.000000</td>\n",
       "      <td>0.0</td>\n",
       "      <td>0.0</td>\n",
       "      <td>0.0</td>\n",
       "    </tr>\n",
       "    <tr>\n",
       "      <th>75%</th>\n",
       "      <td>202665.000000</td>\n",
       "      <td>8.388250e+07</td>\n",
       "      <td>7.831350e+07</td>\n",
       "      <td>7.651175e+07</td>\n",
       "      <td>0.000000e+00</td>\n",
       "      <td>0.000000e+00</td>\n",
       "      <td>3.200000e+06</td>\n",
       "      <td>0.000000e+00</td>\n",
       "      <td>2.630500e+06</td>\n",
       "      <td>3.525000e+05</td>\n",
       "      <td>...</td>\n",
       "      <td>106.000000</td>\n",
       "      <td>101.250000</td>\n",
       "      <td>24.000000</td>\n",
       "      <td>24.000000</td>\n",
       "      <td>24.000000</td>\n",
       "      <td>2.055575e+04</td>\n",
       "      <td>2.000000</td>\n",
       "      <td>0.0</td>\n",
       "      <td>0.0</td>\n",
       "      <td>0.0</td>\n",
       "    </tr>\n",
       "    <tr>\n",
       "      <th>max</th>\n",
       "      <td>271584.000000</td>\n",
       "      <td>7.707240e+08</td>\n",
       "      <td>7.458810e+08</td>\n",
       "      <td>6.696010e+08</td>\n",
       "      <td>9.397600e+07</td>\n",
       "      <td>1.564560e+08</td>\n",
       "      <td>3.805100e+07</td>\n",
       "      <td>2.858600e+07</td>\n",
       "      <td>5.448100e+07</td>\n",
       "      <td>7.690000e+06</td>\n",
       "      <td>...</td>\n",
       "      <td>460.000000</td>\n",
       "      <td>145.000000</td>\n",
       "      <td>33.000000</td>\n",
       "      <td>33.000000</td>\n",
       "      <td>33.000000</td>\n",
       "      <td>4.017000e+07</td>\n",
       "      <td>420.000000</td>\n",
       "      <td>0.0</td>\n",
       "      <td>0.0</td>\n",
       "      <td>0.0</td>\n",
       "    </tr>\n",
       "  </tbody>\n",
       "</table>\n",
       "<p>8 rows × 35 columns</p>\n",
       "</div>"
      ],
      "text/plain": [
       "           record_id    ar_revenue  ar_total_expenses  ar_sale_cost  \\\n",
       "count     200.000000  8.200000e+01       8.200000e+01  8.200000e+01   \n",
       "mean   135340.925000  8.625971e+07       8.200218e+07  7.694863e+07   \n",
       "std     80177.086856  1.589030e+08       1.534092e+08  1.372651e+08   \n",
       "min       196.000000  0.000000e+00       0.000000e+00  0.000000e+00   \n",
       "25%     68367.500000  6.779250e+06       5.397500e+06  5.397500e+06   \n",
       "50%    127585.500000  1.899700e+07       1.645600e+07  1.587850e+07   \n",
       "75%    202665.000000  8.388250e+07       7.831350e+07  7.651175e+07   \n",
       "max    271584.000000  7.707240e+08       7.458810e+08  6.696010e+08   \n",
       "\n",
       "       ar_selling_expenses  ar_management_expenses  ar_sale_profit  \\\n",
       "count         8.200000e+01            8.200000e+01    8.200000e+01   \n",
       "mean          2.780183e+06            2.273366e+06    4.257524e+06   \n",
       "std           1.180692e+07            1.752820e+07    7.752518e+06   \n",
       "min           0.000000e+00            0.000000e+00   -4.898000e+06   \n",
       "25%           0.000000e+00            0.000000e+00    1.557500e+05   \n",
       "50%           0.000000e+00            0.000000e+00    1.184000e+06   \n",
       "75%           0.000000e+00            0.000000e+00    3.200000e+06   \n",
       "max           9.397600e+07            1.564560e+08    3.805100e+07   \n",
       "\n",
       "       ar_balance_of_rvns_and_expns  ar_profit_before_tax      ar_taxes  ...  \\\n",
       "count                  8.200000e+01          8.200000e+01  8.200000e+01  ...   \n",
       "mean                  -6.880854e+05          3.569439e+06  4.419878e+05  ...   \n",
       "std                    5.253569e+06          8.232787e+06  1.294710e+06  ...   \n",
       "min                   -2.328100e+07         -6.390000e+06 -1.100000e+04  ...   \n",
       "25%                   -6.570000e+05          1.265000e+05  0.000000e+00  ...   \n",
       "50%                   -5.800000e+04          5.450000e+05  7.350000e+04  ...   \n",
       "75%                    0.000000e+00          2.630500e+06  3.525000e+05  ...   \n",
       "max                    2.858600e+07          5.448100e+07  7.690000e+06  ...   \n",
       "\n",
       "          bus_age    ogrn_age  adr_actual_age  head_actual_age  \\\n",
       "count  200.000000  200.000000      200.000000       200.000000   \n",
       "mean    84.595000   65.680000       14.320000        14.320000   \n",
       "std     80.585115   46.096442        9.697308         9.697308   \n",
       "min      1.000000    1.000000        1.000000         1.000000   \n",
       "25%     25.000000   25.000000        5.000000         5.000000   \n",
       "50%     57.000000   54.500000       12.500000        12.500000   \n",
       "75%    106.000000  101.250000       24.000000        24.000000   \n",
       "max    460.000000  145.000000       33.000000        33.000000   \n",
       "\n",
       "       cap_actual_age  ul_capital_sum  ul_founders_cnt  ul_branch_cnt  \\\n",
       "count      200.000000    2.000000e+02       200.000000          200.0   \n",
       "mean        14.320000    7.263560e+05         5.070000            0.0   \n",
       "std          9.697308    4.043191e+06        32.669582            0.0   \n",
       "min          1.000000    0.000000e+00         1.000000            0.0   \n",
       "25%          5.000000    1.000000e+04         1.000000            0.0   \n",
       "50%         12.500000    1.000000e+04         1.000000            0.0   \n",
       "75%         24.000000    2.055575e+04         2.000000            0.0   \n",
       "max         33.000000    4.017000e+07       420.000000            0.0   \n",
       "\n",
       "       ul_strategic_flg  ul_systematizing_flg  \n",
       "count             200.0                 200.0  \n",
       "mean                0.0                   0.0  \n",
       "std                 0.0                   0.0  \n",
       "min                 0.0                   0.0  \n",
       "25%                 0.0                   0.0  \n",
       "50%                 0.0                   0.0  \n",
       "75%                 0.0                   0.0  \n",
       "max                 0.0                   0.0  \n",
       "\n",
       "[8 rows x 35 columns]"
      ]
     },
     "execution_count": 224,
     "metadata": {},
     "output_type": "execute_result"
    }
   ],
   "source": [
    "test_df.describe()"
   ]
  },
  {
   "cell_type": "code",
   "execution_count": 225,
   "metadata": {},
   "outputs": [
    {
     "data": {
      "text/plain": [
       "record_id                         int64\n",
       "ar_revenue                      float64\n",
       "ar_total_expenses               float64\n",
       "ar_sale_cost                    float64\n",
       "ar_selling_expenses             float64\n",
       "ar_management_expenses          float64\n",
       "ar_sale_profit                  float64\n",
       "ar_balance_of_rvns_and_expns    float64\n",
       "ar_profit_before_tax            float64\n",
       "ar_taxes                        float64\n",
       "ar_other_profit_and_losses      float64\n",
       "ar_net_profit                   float64\n",
       "ab_immobilized_assets           float64\n",
       "ab_mobile_current_assets        float64\n",
       "ab_inventory                    float64\n",
       "ab_accounts_receivable          float64\n",
       "ab_other_current_assets         float64\n",
       "ab_cash_and_securities          float64\n",
       "ab_losses                       float64\n",
       "ab_own_capital                  float64\n",
       "ab_borrowed_capital             float64\n",
       "ab_long_term_liabilities        float64\n",
       "ab_short_term_borrowing         float64\n",
       "ab_accounts_payable             float64\n",
       "ab_other_borrowings             float64\n",
       "bus_age                           int64\n",
       "ogrn_age                          int64\n",
       "adr_actual_age                    int64\n",
       "head_actual_age                   int64\n",
       "cap_actual_age                    int64\n",
       "ul_staff_range                   object\n",
       "ul_capital_sum                  float64\n",
       "ul_founders_cnt                   int64\n",
       "ul_branch_cnt                     int64\n",
       "ul_strategic_flg                  int64\n",
       "ul_systematizing_flg              int64\n",
       "dtype: object"
      ]
     },
     "execution_count": 225,
     "metadata": {},
     "output_type": "execute_result"
    }
   ],
   "source": [
    "test_df.dtypes"
   ]
  },
  {
   "cell_type": "code",
   "execution_count": 227,
   "metadata": {},
   "outputs": [],
   "source": [
    "train_features = ['default_12m', 'ar_revenue', 'ar_total_expenses', 'ar_sale_cost', 'ar_profit_before_tax', 'ar_net_profit', 'ab_inventory',\n",
    "    'ab_accounts_receivable', 'ab_own_capital', 'ab_borrowed_capital', 'ab_accounts_payable', 'ogrn_age', 'adr_actual_age',\n",
    "    'head_actual_age', 'cap_actual_age']\n",
    "\n",
    "test_features = ['ar_revenue', 'ar_total_expenses', 'ar_sale_cost', 'ar_profit_before_tax', 'ar_net_profit', 'ab_inventory',\n",
    "    'ab_accounts_receivable', 'ab_own_capital', 'ab_borrowed_capital', 'ab_accounts_payable', 'ogrn_age', 'adr_actual_age',\n",
    "    'head_actual_age', 'cap_actual_age']\n",
    "\n",
    "test_record_id = test_df['record_id']\n",
    "train_df = train_df[train_features]\n",
    "test_df = test_df[test_features]\n",
    "\n",
    "# test_record_id = test_df['record_id']\n",
    "# train_df = train_df.drop('ul_staff_range', axis=1)\n",
    "# test_df = test_df.drop('ul_staff_range', axis=1)"
   ]
  },
  {
   "cell_type": "markdown",
   "metadata": {},
   "source": [
    "# Data Preprocessing and Feature Selection"
   ]
  },
  {
   "cell_type": "code",
   "execution_count": 228,
   "metadata": {},
   "outputs": [],
   "source": [
    "# MinMaxScaler for data normalization\n",
    "# KNNImputer is a distance-based imputation method,\n",
    "# so it needs normalization before imputing\n",
    "scaler = MinMaxScaler()\n",
    "default = train_df['default_12m']\n",
    "train_df = pd.DataFrame(scaler.fit_transform(train_df.drop('default_12m', axis=1)), columns = train_df.drop('default_12m', axis=1).columns)\n",
    "train_df['default_12m'] = default\n",
    "# df_normalized = scaler.fit_transform(df.drop(['target', 'id'], axis=1))\n",
    "test_df = pd.DataFrame(scaler.fit_transform(test_df), columns = test_df.columns)"
   ]
  },
  {
   "cell_type": "code",
   "execution_count": 229,
   "metadata": {},
   "outputs": [],
   "source": [
    "train_df = train_df.dropna(axis=1)\n",
    "test_df = test_df.dropna(axis=1)"
   ]
  },
  {
   "cell_type": "markdown",
   "metadata": {},
   "source": [
    "# Cross-Validation"
   ]
  },
  {
   "cell_type": "code",
   "execution_count": 230,
   "metadata": {},
   "outputs": [],
   "source": [
    "# Get a list of models to evaluate\n",
    "def get_models():\n",
    "    models = dict()\n",
    "    models['LogisticRegression'] = LogisticRegression()\n",
    "    models['SVC'] = SVC()\n",
    "    models['GaussianNB'] = GaussianNB()\n",
    "    models['MultinomialNB'] = MultinomialNB()\n",
    "    models['SGDClassifier'] = SGDClassifier()\n",
    "    models['DecisionTreeClassifier'] = DecisionTreeClassifier()\n",
    "    models['RandomForestClassifier'] = RandomForestClassifier()\n",
    "    models['GradientBoostingClassifier'] = GradientBoostingClassifier()\n",
    "    models['LGBMClassifier'] = LGBMClassifier()\n",
    "    models['XGBClassifier'] = XGBClassifier()\n",
    "    models['Stacking'] = get_stacking()\n",
    "    return models"
   ]
  },
  {
   "cell_type": "code",
   "execution_count": 231,
   "metadata": {},
   "outputs": [],
   "source": [
    "# Evaluate a given model using cross-validation\n",
    "def mape_evaluate_model(model, x, y):\n",
    "    start_time = time.time()\n",
    "    cv = RepeatedKFold(n_splits=10, n_repeats=3, random_state=1)\n",
    "    scores = cross_val_score(model, x, y, scoring='neg_mean_absolute_percentage_error', cv=cv, n_jobs=-1, error_score='raise')\n",
    "    run_time = time.time() - start_time\n",
    "    return scores, run_time"
   ]
  },
  {
   "cell_type": "code",
   "execution_count": 232,
   "metadata": {},
   "outputs": [],
   "source": [
    "# Get a stacking ensemble of models\n",
    "def get_stacking():\n",
    "    # Defining the base models\n",
    "    level0 = list()\n",
    "    level0.append(('MultinomialNB', MultinomialNB()))\n",
    "    level0.append(('GaussianNB', GaussianNB()))\n",
    "    level0.append(('SGDClassifier', SGDClassifier()))\n",
    "    # Defining meta learner model\n",
    "    level1 = LogisticRegression()\n",
    "    # Defining the stacking ensemble\n",
    "    model = StackingClassifier(estimators=level0, final_estimator=level1, cv=5)\n",
    "    return model"
   ]
  },
  {
   "cell_type": "code",
   "execution_count": 233,
   "metadata": {},
   "outputs": [
    {
     "name": "stdout",
     "output_type": "stream",
     "text": [
      "LogisticRegression | MAPE: -0.06454705829289892 | Standard Deviation: 0.003842818698104729 | Time Taken: 0.8251864910125732\n",
      "SVC | MAPE: -22430495519825.793 | Standard Deviation: 45628838265558.96 | Time Taken: 67.21057724952698\n",
      "GaussianNB | MAPE: -0.06454705829289892 | Standard Deviation: 0.003842818698104729 | Time Taken: 0.12402796745300293\n",
      "MultinomialNB | MAPE: -0.06454705829289892 | Standard Deviation: 0.003842818698104729 | Time Taken: 0.12502813339233398\n",
      "SGDClassifier | MAPE: -0.06454705829289892 | Standard Deviation: 0.003842818698104729 | Time Taken: 0.14303159713745117\n",
      "DecisionTreeClassifier | MAPE: -14319516464678.25 | Standard Deviation: 5041002228153.881 | Time Taken: 0.15703511238098145\n",
      "RandomForestClassifier | MAPE: -17980364468868.996 | Standard Deviation: 5799014941073.912 | Time Taken: 1.3983149528503418\n",
      "GradientBoostingClassifier | MAPE: -0.06454705829289892 | Standard Deviation: 0.003842818698104729 | Time Taken: 2.964679479598999\n",
      "LGBMClassifier | MAPE: -0.06454705829289892 | Standard Deviation: 0.003842818698104729 | Time Taken: 0.5491237640380859\n",
      "XGBClassifier | MAPE: -185376232475.07736 | Standard Deviation: 472618518244.0762 | Time Taken: 2.4835586547851562\n",
      "Stacking | MAPE: -0.06454705829289892 | Standard Deviation: 0.003842818698104729 | Time Taken: 0.6646568775177002\n"
     ]
    }
   ],
   "source": [
    "# Get the models to evaluate\n",
    "models = get_models()\n",
    "mape_results, names, runs = list(), list(), list()\n",
    "\n",
    "# Evaluate the models and store results\n",
    "for name, model in models.items():\n",
    "    mape_scores, run_time = mape_evaluate_model(model, train_df.drop('default_12m', axis=1), train_df['default_12m'])\n",
    "    mape_results.append(mape_scores)\n",
    "    names.append(name)\n",
    "    runs.append(run_time)\n",
    "    print(name, \"| MAPE:\", mean(mape_scores), \"| Standard Deviation:\", std(mape_scores),\"| Time Taken:\", run_time)"
   ]
  },
  {
   "cell_type": "markdown",
   "metadata": {},
   "source": [
    "# Model Selection"
   ]
  },
  {
   "cell_type": "code",
   "execution_count": 234,
   "metadata": {},
   "outputs": [],
   "source": [
    "mape_mean_results, mape_std_results = list(), list()\n",
    "r2_mean_results, r2_std_results = list(), list()\n",
    "for value in range(len(mape_results)):\n",
    "    mape_mean_results.append(mean(mape_results[value]))\n",
    "    mape_std_results.append(std(mape_results[value]))"
   ]
  },
  {
   "cell_type": "code",
   "execution_count": 235,
   "metadata": {},
   "outputs": [
    {
     "data": {
      "text/html": [
       "<div>\n",
       "<style scoped>\n",
       "    .dataframe tbody tr th:only-of-type {\n",
       "        vertical-align: middle;\n",
       "    }\n",
       "\n",
       "    .dataframe tbody tr th {\n",
       "        vertical-align: top;\n",
       "    }\n",
       "\n",
       "    .dataframe thead th {\n",
       "        text-align: right;\n",
       "    }\n",
       "</style>\n",
       "<table border=\"1\" class=\"dataframe\">\n",
       "  <thead>\n",
       "    <tr style=\"text-align: right;\">\n",
       "      <th></th>\n",
       "      <th>MAPE</th>\n",
       "      <th>Standart Deviation</th>\n",
       "      <th>Time Taken</th>\n",
       "    </tr>\n",
       "    <tr>\n",
       "      <th>Name</th>\n",
       "      <th></th>\n",
       "      <th></th>\n",
       "      <th></th>\n",
       "    </tr>\n",
       "  </thead>\n",
       "  <tbody>\n",
       "    <tr>\n",
       "      <th>LogisticRegression</th>\n",
       "      <td>-6.454706e-02</td>\n",
       "      <td>3.842819e-03</td>\n",
       "      <td>0.825186</td>\n",
       "    </tr>\n",
       "    <tr>\n",
       "      <th>SVC</th>\n",
       "      <td>-2.243050e+13</td>\n",
       "      <td>4.562884e+13</td>\n",
       "      <td>67.210577</td>\n",
       "    </tr>\n",
       "    <tr>\n",
       "      <th>GaussianNB</th>\n",
       "      <td>-6.454706e-02</td>\n",
       "      <td>3.842819e-03</td>\n",
       "      <td>0.124028</td>\n",
       "    </tr>\n",
       "    <tr>\n",
       "      <th>MultinomialNB</th>\n",
       "      <td>-6.454706e-02</td>\n",
       "      <td>3.842819e-03</td>\n",
       "      <td>0.125028</td>\n",
       "    </tr>\n",
       "    <tr>\n",
       "      <th>SGDClassifier</th>\n",
       "      <td>-6.454706e-02</td>\n",
       "      <td>3.842819e-03</td>\n",
       "      <td>0.143032</td>\n",
       "    </tr>\n",
       "    <tr>\n",
       "      <th>DecisionTreeClassifier</th>\n",
       "      <td>-1.431952e+13</td>\n",
       "      <td>5.041002e+12</td>\n",
       "      <td>0.157035</td>\n",
       "    </tr>\n",
       "    <tr>\n",
       "      <th>RandomForestClassifier</th>\n",
       "      <td>-1.798036e+13</td>\n",
       "      <td>5.799015e+12</td>\n",
       "      <td>1.398315</td>\n",
       "    </tr>\n",
       "    <tr>\n",
       "      <th>GradientBoostingClassifier</th>\n",
       "      <td>-6.454706e-02</td>\n",
       "      <td>3.842819e-03</td>\n",
       "      <td>2.964679</td>\n",
       "    </tr>\n",
       "    <tr>\n",
       "      <th>LGBMClassifier</th>\n",
       "      <td>-6.454706e-02</td>\n",
       "      <td>3.842819e-03</td>\n",
       "      <td>0.549124</td>\n",
       "    </tr>\n",
       "    <tr>\n",
       "      <th>XGBClassifier</th>\n",
       "      <td>-1.853762e+11</td>\n",
       "      <td>4.726185e+11</td>\n",
       "      <td>2.483559</td>\n",
       "    </tr>\n",
       "    <tr>\n",
       "      <th>Stacking</th>\n",
       "      <td>-6.454706e-02</td>\n",
       "      <td>3.842819e-03</td>\n",
       "      <td>0.664657</td>\n",
       "    </tr>\n",
       "  </tbody>\n",
       "</table>\n",
       "</div>"
      ],
      "text/plain": [
       "                                    MAPE  Standart Deviation  Time Taken\n",
       "Name                                                                    \n",
       "LogisticRegression         -6.454706e-02        3.842819e-03    0.825186\n",
       "SVC                        -2.243050e+13        4.562884e+13   67.210577\n",
       "GaussianNB                 -6.454706e-02        3.842819e-03    0.124028\n",
       "MultinomialNB              -6.454706e-02        3.842819e-03    0.125028\n",
       "SGDClassifier              -6.454706e-02        3.842819e-03    0.143032\n",
       "DecisionTreeClassifier     -1.431952e+13        5.041002e+12    0.157035\n",
       "RandomForestClassifier     -1.798036e+13        5.799015e+12    1.398315\n",
       "GradientBoostingClassifier -6.454706e-02        3.842819e-03    2.964679\n",
       "LGBMClassifier             -6.454706e-02        3.842819e-03    0.549124\n",
       "XGBClassifier              -1.853762e+11        4.726185e+11    2.483559\n",
       "Stacking                   -6.454706e-02        3.842819e-03    0.664657"
      ]
     },
     "execution_count": 235,
     "metadata": {},
     "output_type": "execute_result"
    }
   ],
   "source": [
    "data = {'Name':names, 'MAPE':mape_mean_results, 'Standart Deviation':mape_std_results, 'Time Taken':runs}\n",
    "df_models = pd.DataFrame(data)\n",
    "df_models.set_index('Name', inplace=True)\n",
    "df_models"
   ]
  },
  {
   "cell_type": "code",
   "execution_count": 236,
   "metadata": {},
   "outputs": [
    {
     "data": {
      "application/vnd.plotly.v1+json": {
       "config": {
        "plotlyServerURL": "https://plot.ly"
       },
       "data": [
        {
         "hovertemplate": "variable=Time Taken<br>Name=%{x}<br>value=%{y}<extra></extra>",
         "legendgroup": "Time Taken",
         "line": {
          "color": "red",
          "dash": "solid"
         },
         "marker": {
          "symbol": "circle"
         },
         "mode": "markers+lines",
         "name": "Time Taken",
         "orientation": "v",
         "showlegend": true,
         "type": "scatter",
         "x": [
          "GaussianNB",
          "MultinomialNB",
          "SGDClassifier",
          "DecisionTreeClassifier",
          "LGBMClassifier",
          "Stacking",
          "LogisticRegression",
          "RandomForestClassifier",
          "XGBClassifier",
          "GradientBoostingClassifier",
          "SVC"
         ],
         "xaxis": "x",
         "y": [
          0.12402796745300293,
          0.12502813339233398,
          0.14303159713745117,
          0.15703511238098145,
          0.5491237640380859,
          0.6646568775177002,
          0.8251864910125732,
          1.3983149528503418,
          2.4835586547851562,
          2.964679479598999,
          67.21057724952698
         ],
         "yaxis": "y"
        }
       ],
       "layout": {
        "legend": {
         "title": {
          "text": "variable"
         },
         "tracegroupgap": 0
        },
        "margin": {
         "t": 60
        },
        "showlegend": true,
        "template": {
         "data": {
          "bar": [
           {
            "error_x": {
             "color": "#2a3f5f"
            },
            "error_y": {
             "color": "#2a3f5f"
            },
            "marker": {
             "line": {
              "color": "#E5ECF6",
              "width": 0.5
             },
             "pattern": {
              "fillmode": "overlay",
              "size": 10,
              "solidity": 0.2
             }
            },
            "type": "bar"
           }
          ],
          "barpolar": [
           {
            "marker": {
             "line": {
              "color": "#E5ECF6",
              "width": 0.5
             },
             "pattern": {
              "fillmode": "overlay",
              "size": 10,
              "solidity": 0.2
             }
            },
            "type": "barpolar"
           }
          ],
          "carpet": [
           {
            "aaxis": {
             "endlinecolor": "#2a3f5f",
             "gridcolor": "white",
             "linecolor": "white",
             "minorgridcolor": "white",
             "startlinecolor": "#2a3f5f"
            },
            "baxis": {
             "endlinecolor": "#2a3f5f",
             "gridcolor": "white",
             "linecolor": "white",
             "minorgridcolor": "white",
             "startlinecolor": "#2a3f5f"
            },
            "type": "carpet"
           }
          ],
          "choropleth": [
           {
            "colorbar": {
             "outlinewidth": 0,
             "ticks": ""
            },
            "type": "choropleth"
           }
          ],
          "contour": [
           {
            "colorbar": {
             "outlinewidth": 0,
             "ticks": ""
            },
            "colorscale": [
             [
              0,
              "#0d0887"
             ],
             [
              0.1111111111111111,
              "#46039f"
             ],
             [
              0.2222222222222222,
              "#7201a8"
             ],
             [
              0.3333333333333333,
              "#9c179e"
             ],
             [
              0.4444444444444444,
              "#bd3786"
             ],
             [
              0.5555555555555556,
              "#d8576b"
             ],
             [
              0.6666666666666666,
              "#ed7953"
             ],
             [
              0.7777777777777778,
              "#fb9f3a"
             ],
             [
              0.8888888888888888,
              "#fdca26"
             ],
             [
              1,
              "#f0f921"
             ]
            ],
            "type": "contour"
           }
          ],
          "contourcarpet": [
           {
            "colorbar": {
             "outlinewidth": 0,
             "ticks": ""
            },
            "type": "contourcarpet"
           }
          ],
          "heatmap": [
           {
            "colorbar": {
             "outlinewidth": 0,
             "ticks": ""
            },
            "colorscale": [
             [
              0,
              "#0d0887"
             ],
             [
              0.1111111111111111,
              "#46039f"
             ],
             [
              0.2222222222222222,
              "#7201a8"
             ],
             [
              0.3333333333333333,
              "#9c179e"
             ],
             [
              0.4444444444444444,
              "#bd3786"
             ],
             [
              0.5555555555555556,
              "#d8576b"
             ],
             [
              0.6666666666666666,
              "#ed7953"
             ],
             [
              0.7777777777777778,
              "#fb9f3a"
             ],
             [
              0.8888888888888888,
              "#fdca26"
             ],
             [
              1,
              "#f0f921"
             ]
            ],
            "type": "heatmap"
           }
          ],
          "heatmapgl": [
           {
            "colorbar": {
             "outlinewidth": 0,
             "ticks": ""
            },
            "colorscale": [
             [
              0,
              "#0d0887"
             ],
             [
              0.1111111111111111,
              "#46039f"
             ],
             [
              0.2222222222222222,
              "#7201a8"
             ],
             [
              0.3333333333333333,
              "#9c179e"
             ],
             [
              0.4444444444444444,
              "#bd3786"
             ],
             [
              0.5555555555555556,
              "#d8576b"
             ],
             [
              0.6666666666666666,
              "#ed7953"
             ],
             [
              0.7777777777777778,
              "#fb9f3a"
             ],
             [
              0.8888888888888888,
              "#fdca26"
             ],
             [
              1,
              "#f0f921"
             ]
            ],
            "type": "heatmapgl"
           }
          ],
          "histogram": [
           {
            "marker": {
             "pattern": {
              "fillmode": "overlay",
              "size": 10,
              "solidity": 0.2
             }
            },
            "type": "histogram"
           }
          ],
          "histogram2d": [
           {
            "colorbar": {
             "outlinewidth": 0,
             "ticks": ""
            },
            "colorscale": [
             [
              0,
              "#0d0887"
             ],
             [
              0.1111111111111111,
              "#46039f"
             ],
             [
              0.2222222222222222,
              "#7201a8"
             ],
             [
              0.3333333333333333,
              "#9c179e"
             ],
             [
              0.4444444444444444,
              "#bd3786"
             ],
             [
              0.5555555555555556,
              "#d8576b"
             ],
             [
              0.6666666666666666,
              "#ed7953"
             ],
             [
              0.7777777777777778,
              "#fb9f3a"
             ],
             [
              0.8888888888888888,
              "#fdca26"
             ],
             [
              1,
              "#f0f921"
             ]
            ],
            "type": "histogram2d"
           }
          ],
          "histogram2dcontour": [
           {
            "colorbar": {
             "outlinewidth": 0,
             "ticks": ""
            },
            "colorscale": [
             [
              0,
              "#0d0887"
             ],
             [
              0.1111111111111111,
              "#46039f"
             ],
             [
              0.2222222222222222,
              "#7201a8"
             ],
             [
              0.3333333333333333,
              "#9c179e"
             ],
             [
              0.4444444444444444,
              "#bd3786"
             ],
             [
              0.5555555555555556,
              "#d8576b"
             ],
             [
              0.6666666666666666,
              "#ed7953"
             ],
             [
              0.7777777777777778,
              "#fb9f3a"
             ],
             [
              0.8888888888888888,
              "#fdca26"
             ],
             [
              1,
              "#f0f921"
             ]
            ],
            "type": "histogram2dcontour"
           }
          ],
          "mesh3d": [
           {
            "colorbar": {
             "outlinewidth": 0,
             "ticks": ""
            },
            "type": "mesh3d"
           }
          ],
          "parcoords": [
           {
            "line": {
             "colorbar": {
              "outlinewidth": 0,
              "ticks": ""
             }
            },
            "type": "parcoords"
           }
          ],
          "pie": [
           {
            "automargin": true,
            "type": "pie"
           }
          ],
          "scatter": [
           {
            "fillpattern": {
             "fillmode": "overlay",
             "size": 10,
             "solidity": 0.2
            },
            "type": "scatter"
           }
          ],
          "scatter3d": [
           {
            "line": {
             "colorbar": {
              "outlinewidth": 0,
              "ticks": ""
             }
            },
            "marker": {
             "colorbar": {
              "outlinewidth": 0,
              "ticks": ""
             }
            },
            "type": "scatter3d"
           }
          ],
          "scattercarpet": [
           {
            "marker": {
             "colorbar": {
              "outlinewidth": 0,
              "ticks": ""
             }
            },
            "type": "scattercarpet"
           }
          ],
          "scattergeo": [
           {
            "marker": {
             "colorbar": {
              "outlinewidth": 0,
              "ticks": ""
             }
            },
            "type": "scattergeo"
           }
          ],
          "scattergl": [
           {
            "marker": {
             "colorbar": {
              "outlinewidth": 0,
              "ticks": ""
             }
            },
            "type": "scattergl"
           }
          ],
          "scattermapbox": [
           {
            "marker": {
             "colorbar": {
              "outlinewidth": 0,
              "ticks": ""
             }
            },
            "type": "scattermapbox"
           }
          ],
          "scatterpolar": [
           {
            "marker": {
             "colorbar": {
              "outlinewidth": 0,
              "ticks": ""
             }
            },
            "type": "scatterpolar"
           }
          ],
          "scatterpolargl": [
           {
            "marker": {
             "colorbar": {
              "outlinewidth": 0,
              "ticks": ""
             }
            },
            "type": "scatterpolargl"
           }
          ],
          "scatterternary": [
           {
            "marker": {
             "colorbar": {
              "outlinewidth": 0,
              "ticks": ""
             }
            },
            "type": "scatterternary"
           }
          ],
          "surface": [
           {
            "colorbar": {
             "outlinewidth": 0,
             "ticks": ""
            },
            "colorscale": [
             [
              0,
              "#0d0887"
             ],
             [
              0.1111111111111111,
              "#46039f"
             ],
             [
              0.2222222222222222,
              "#7201a8"
             ],
             [
              0.3333333333333333,
              "#9c179e"
             ],
             [
              0.4444444444444444,
              "#bd3786"
             ],
             [
              0.5555555555555556,
              "#d8576b"
             ],
             [
              0.6666666666666666,
              "#ed7953"
             ],
             [
              0.7777777777777778,
              "#fb9f3a"
             ],
             [
              0.8888888888888888,
              "#fdca26"
             ],
             [
              1,
              "#f0f921"
             ]
            ],
            "type": "surface"
           }
          ],
          "table": [
           {
            "cells": {
             "fill": {
              "color": "#EBF0F8"
             },
             "line": {
              "color": "white"
             }
            },
            "header": {
             "fill": {
              "color": "#C8D4E3"
             },
             "line": {
              "color": "white"
             }
            },
            "type": "table"
           }
          ]
         },
         "layout": {
          "annotationdefaults": {
           "arrowcolor": "#2a3f5f",
           "arrowhead": 0,
           "arrowwidth": 1
          },
          "autotypenumbers": "strict",
          "coloraxis": {
           "colorbar": {
            "outlinewidth": 0,
            "ticks": ""
           }
          },
          "colorscale": {
           "diverging": [
            [
             0,
             "#8e0152"
            ],
            [
             0.1,
             "#c51b7d"
            ],
            [
             0.2,
             "#de77ae"
            ],
            [
             0.3,
             "#f1b6da"
            ],
            [
             0.4,
             "#fde0ef"
            ],
            [
             0.5,
             "#f7f7f7"
            ],
            [
             0.6,
             "#e6f5d0"
            ],
            [
             0.7,
             "#b8e186"
            ],
            [
             0.8,
             "#7fbc41"
            ],
            [
             0.9,
             "#4d9221"
            ],
            [
             1,
             "#276419"
            ]
           ],
           "sequential": [
            [
             0,
             "#0d0887"
            ],
            [
             0.1111111111111111,
             "#46039f"
            ],
            [
             0.2222222222222222,
             "#7201a8"
            ],
            [
             0.3333333333333333,
             "#9c179e"
            ],
            [
             0.4444444444444444,
             "#bd3786"
            ],
            [
             0.5555555555555556,
             "#d8576b"
            ],
            [
             0.6666666666666666,
             "#ed7953"
            ],
            [
             0.7777777777777778,
             "#fb9f3a"
            ],
            [
             0.8888888888888888,
             "#fdca26"
            ],
            [
             1,
             "#f0f921"
            ]
           ],
           "sequentialminus": [
            [
             0,
             "#0d0887"
            ],
            [
             0.1111111111111111,
             "#46039f"
            ],
            [
             0.2222222222222222,
             "#7201a8"
            ],
            [
             0.3333333333333333,
             "#9c179e"
            ],
            [
             0.4444444444444444,
             "#bd3786"
            ],
            [
             0.5555555555555556,
             "#d8576b"
            ],
            [
             0.6666666666666666,
             "#ed7953"
            ],
            [
             0.7777777777777778,
             "#fb9f3a"
            ],
            [
             0.8888888888888888,
             "#fdca26"
            ],
            [
             1,
             "#f0f921"
            ]
           ]
          },
          "colorway": [
           "#636efa",
           "#EF553B",
           "#00cc96",
           "#ab63fa",
           "#FFA15A",
           "#19d3f3",
           "#FF6692",
           "#B6E880",
           "#FF97FF",
           "#FECB52"
          ],
          "font": {
           "color": "#2a3f5f"
          },
          "geo": {
           "bgcolor": "white",
           "lakecolor": "white",
           "landcolor": "#E5ECF6",
           "showlakes": true,
           "showland": true,
           "subunitcolor": "white"
          },
          "hoverlabel": {
           "align": "left"
          },
          "hovermode": "closest",
          "mapbox": {
           "style": "light"
          },
          "paper_bgcolor": "white",
          "plot_bgcolor": "#E5ECF6",
          "polar": {
           "angularaxis": {
            "gridcolor": "white",
            "linecolor": "white",
            "ticks": ""
           },
           "bgcolor": "#E5ECF6",
           "radialaxis": {
            "gridcolor": "white",
            "linecolor": "white",
            "ticks": ""
           }
          },
          "scene": {
           "xaxis": {
            "backgroundcolor": "#E5ECF6",
            "gridcolor": "white",
            "gridwidth": 2,
            "linecolor": "white",
            "showbackground": true,
            "ticks": "",
            "zerolinecolor": "white"
           },
           "yaxis": {
            "backgroundcolor": "#E5ECF6",
            "gridcolor": "white",
            "gridwidth": 2,
            "linecolor": "white",
            "showbackground": true,
            "ticks": "",
            "zerolinecolor": "white"
           },
           "zaxis": {
            "backgroundcolor": "#E5ECF6",
            "gridcolor": "white",
            "gridwidth": 2,
            "linecolor": "white",
            "showbackground": true,
            "ticks": "",
            "zerolinecolor": "white"
           }
          },
          "shapedefaults": {
           "line": {
            "color": "#2a3f5f"
           }
          },
          "ternary": {
           "aaxis": {
            "gridcolor": "white",
            "linecolor": "white",
            "ticks": ""
           },
           "baxis": {
            "gridcolor": "white",
            "linecolor": "white",
            "ticks": ""
           },
           "bgcolor": "#E5ECF6",
           "caxis": {
            "gridcolor": "white",
            "linecolor": "white",
            "ticks": ""
           }
          },
          "title": {
           "x": 0.05
          },
          "xaxis": {
           "automargin": true,
           "gridcolor": "white",
           "linecolor": "white",
           "ticks": "",
           "title": {
            "standoff": 15
           },
           "zerolinecolor": "white",
           "zerolinewidth": 2
          },
          "yaxis": {
           "automargin": true,
           "gridcolor": "white",
           "linecolor": "white",
           "ticks": "",
           "title": {
            "standoff": 15
           },
           "zerolinecolor": "white",
           "zerolinewidth": 2
          }
         }
        },
        "title": {
         "text": "Time Taken vs Model",
         "x": 0.5,
         "xanchor": "center",
         "y": 0.94,
         "yanchor": "top"
        },
        "xaxis": {
         "anchor": "y",
         "domain": [
          0,
          1
         ],
         "rangeslider": {
          "visible": false
         },
         "title": {
          "text": "Model"
         }
        },
        "yaxis": {
         "anchor": "x",
         "domain": [
          0,
          1
         ],
         "title": {
          "text": "Time (s)"
         }
        }
       }
      }
     },
     "metadata": {},
     "output_type": "display_data"
    }
   ],
   "source": [
    "line = px.line(data_frame = df_models.sort_values('Time Taken', ascending=True),y =['Time Taken'], markers = True)\n",
    "line.update_xaxes(title=\"Model\", rangeslider_visible = False)\n",
    "line.update_yaxes(title = \"Time (s)\")\n",
    "line.update_traces(line_color=\"red\")\n",
    "line.update_layout(showlegend = True,\n",
    "                   title = {\n",
    "                       'text': 'Time Taken vs Model',\n",
    "                       'y':0.94,\n",
    "                       'x':0.5,\n",
    "                       'xanchor': 'center',\n",
    "                       'yanchor': 'top'})\n",
    "\n",
    "line.show()"
   ]
  },
  {
   "cell_type": "code",
   "execution_count": 237,
   "metadata": {},
   "outputs": [
    {
     "data": {
      "application/vnd.plotly.v1+json": {
       "config": {
        "plotlyServerURL": "https://plot.ly"
       },
       "data": [
        {
         "hovertemplate": "variable=MAPE<br>Name=%{x}<br>value=%{y}<extra></extra>",
         "legendgroup": "MAPE",
         "line": {
          "color": "blue",
          "dash": "solid"
         },
         "marker": {
          "symbol": "circle"
         },
         "mode": "markers+lines",
         "name": "MAPE",
         "orientation": "v",
         "showlegend": true,
         "type": "scatter",
         "x": [
          "LogisticRegression",
          "GaussianNB",
          "MultinomialNB",
          "SGDClassifier",
          "GradientBoostingClassifier",
          "LGBMClassifier",
          "Stacking",
          "XGBClassifier",
          "DecisionTreeClassifier",
          "RandomForestClassifier",
          "SVC"
         ],
         "xaxis": "x",
         "y": [
          -0.06454705829289892,
          -0.06454705829289892,
          -0.06454705829289892,
          -0.06454705829289892,
          -0.06454705829289892,
          -0.06454705829289892,
          -0.06454705829289892,
          -185376232475.07736,
          -14319516464678.25,
          -17980364468868.996,
          -22430495519825.793
         ],
         "yaxis": "y"
        }
       ],
       "layout": {
        "legend": {
         "title": {
          "text": "variable"
         },
         "tracegroupgap": 0
        },
        "margin": {
         "t": 60
        },
        "showlegend": true,
        "template": {
         "data": {
          "bar": [
           {
            "error_x": {
             "color": "#2a3f5f"
            },
            "error_y": {
             "color": "#2a3f5f"
            },
            "marker": {
             "line": {
              "color": "#E5ECF6",
              "width": 0.5
             },
             "pattern": {
              "fillmode": "overlay",
              "size": 10,
              "solidity": 0.2
             }
            },
            "type": "bar"
           }
          ],
          "barpolar": [
           {
            "marker": {
             "line": {
              "color": "#E5ECF6",
              "width": 0.5
             },
             "pattern": {
              "fillmode": "overlay",
              "size": 10,
              "solidity": 0.2
             }
            },
            "type": "barpolar"
           }
          ],
          "carpet": [
           {
            "aaxis": {
             "endlinecolor": "#2a3f5f",
             "gridcolor": "white",
             "linecolor": "white",
             "minorgridcolor": "white",
             "startlinecolor": "#2a3f5f"
            },
            "baxis": {
             "endlinecolor": "#2a3f5f",
             "gridcolor": "white",
             "linecolor": "white",
             "minorgridcolor": "white",
             "startlinecolor": "#2a3f5f"
            },
            "type": "carpet"
           }
          ],
          "choropleth": [
           {
            "colorbar": {
             "outlinewidth": 0,
             "ticks": ""
            },
            "type": "choropleth"
           }
          ],
          "contour": [
           {
            "colorbar": {
             "outlinewidth": 0,
             "ticks": ""
            },
            "colorscale": [
             [
              0,
              "#0d0887"
             ],
             [
              0.1111111111111111,
              "#46039f"
             ],
             [
              0.2222222222222222,
              "#7201a8"
             ],
             [
              0.3333333333333333,
              "#9c179e"
             ],
             [
              0.4444444444444444,
              "#bd3786"
             ],
             [
              0.5555555555555556,
              "#d8576b"
             ],
             [
              0.6666666666666666,
              "#ed7953"
             ],
             [
              0.7777777777777778,
              "#fb9f3a"
             ],
             [
              0.8888888888888888,
              "#fdca26"
             ],
             [
              1,
              "#f0f921"
             ]
            ],
            "type": "contour"
           }
          ],
          "contourcarpet": [
           {
            "colorbar": {
             "outlinewidth": 0,
             "ticks": ""
            },
            "type": "contourcarpet"
           }
          ],
          "heatmap": [
           {
            "colorbar": {
             "outlinewidth": 0,
             "ticks": ""
            },
            "colorscale": [
             [
              0,
              "#0d0887"
             ],
             [
              0.1111111111111111,
              "#46039f"
             ],
             [
              0.2222222222222222,
              "#7201a8"
             ],
             [
              0.3333333333333333,
              "#9c179e"
             ],
             [
              0.4444444444444444,
              "#bd3786"
             ],
             [
              0.5555555555555556,
              "#d8576b"
             ],
             [
              0.6666666666666666,
              "#ed7953"
             ],
             [
              0.7777777777777778,
              "#fb9f3a"
             ],
             [
              0.8888888888888888,
              "#fdca26"
             ],
             [
              1,
              "#f0f921"
             ]
            ],
            "type": "heatmap"
           }
          ],
          "heatmapgl": [
           {
            "colorbar": {
             "outlinewidth": 0,
             "ticks": ""
            },
            "colorscale": [
             [
              0,
              "#0d0887"
             ],
             [
              0.1111111111111111,
              "#46039f"
             ],
             [
              0.2222222222222222,
              "#7201a8"
             ],
             [
              0.3333333333333333,
              "#9c179e"
             ],
             [
              0.4444444444444444,
              "#bd3786"
             ],
             [
              0.5555555555555556,
              "#d8576b"
             ],
             [
              0.6666666666666666,
              "#ed7953"
             ],
             [
              0.7777777777777778,
              "#fb9f3a"
             ],
             [
              0.8888888888888888,
              "#fdca26"
             ],
             [
              1,
              "#f0f921"
             ]
            ],
            "type": "heatmapgl"
           }
          ],
          "histogram": [
           {
            "marker": {
             "pattern": {
              "fillmode": "overlay",
              "size": 10,
              "solidity": 0.2
             }
            },
            "type": "histogram"
           }
          ],
          "histogram2d": [
           {
            "colorbar": {
             "outlinewidth": 0,
             "ticks": ""
            },
            "colorscale": [
             [
              0,
              "#0d0887"
             ],
             [
              0.1111111111111111,
              "#46039f"
             ],
             [
              0.2222222222222222,
              "#7201a8"
             ],
             [
              0.3333333333333333,
              "#9c179e"
             ],
             [
              0.4444444444444444,
              "#bd3786"
             ],
             [
              0.5555555555555556,
              "#d8576b"
             ],
             [
              0.6666666666666666,
              "#ed7953"
             ],
             [
              0.7777777777777778,
              "#fb9f3a"
             ],
             [
              0.8888888888888888,
              "#fdca26"
             ],
             [
              1,
              "#f0f921"
             ]
            ],
            "type": "histogram2d"
           }
          ],
          "histogram2dcontour": [
           {
            "colorbar": {
             "outlinewidth": 0,
             "ticks": ""
            },
            "colorscale": [
             [
              0,
              "#0d0887"
             ],
             [
              0.1111111111111111,
              "#46039f"
             ],
             [
              0.2222222222222222,
              "#7201a8"
             ],
             [
              0.3333333333333333,
              "#9c179e"
             ],
             [
              0.4444444444444444,
              "#bd3786"
             ],
             [
              0.5555555555555556,
              "#d8576b"
             ],
             [
              0.6666666666666666,
              "#ed7953"
             ],
             [
              0.7777777777777778,
              "#fb9f3a"
             ],
             [
              0.8888888888888888,
              "#fdca26"
             ],
             [
              1,
              "#f0f921"
             ]
            ],
            "type": "histogram2dcontour"
           }
          ],
          "mesh3d": [
           {
            "colorbar": {
             "outlinewidth": 0,
             "ticks": ""
            },
            "type": "mesh3d"
           }
          ],
          "parcoords": [
           {
            "line": {
             "colorbar": {
              "outlinewidth": 0,
              "ticks": ""
             }
            },
            "type": "parcoords"
           }
          ],
          "pie": [
           {
            "automargin": true,
            "type": "pie"
           }
          ],
          "scatter": [
           {
            "fillpattern": {
             "fillmode": "overlay",
             "size": 10,
             "solidity": 0.2
            },
            "type": "scatter"
           }
          ],
          "scatter3d": [
           {
            "line": {
             "colorbar": {
              "outlinewidth": 0,
              "ticks": ""
             }
            },
            "marker": {
             "colorbar": {
              "outlinewidth": 0,
              "ticks": ""
             }
            },
            "type": "scatter3d"
           }
          ],
          "scattercarpet": [
           {
            "marker": {
             "colorbar": {
              "outlinewidth": 0,
              "ticks": ""
             }
            },
            "type": "scattercarpet"
           }
          ],
          "scattergeo": [
           {
            "marker": {
             "colorbar": {
              "outlinewidth": 0,
              "ticks": ""
             }
            },
            "type": "scattergeo"
           }
          ],
          "scattergl": [
           {
            "marker": {
             "colorbar": {
              "outlinewidth": 0,
              "ticks": ""
             }
            },
            "type": "scattergl"
           }
          ],
          "scattermapbox": [
           {
            "marker": {
             "colorbar": {
              "outlinewidth": 0,
              "ticks": ""
             }
            },
            "type": "scattermapbox"
           }
          ],
          "scatterpolar": [
           {
            "marker": {
             "colorbar": {
              "outlinewidth": 0,
              "ticks": ""
             }
            },
            "type": "scatterpolar"
           }
          ],
          "scatterpolargl": [
           {
            "marker": {
             "colorbar": {
              "outlinewidth": 0,
              "ticks": ""
             }
            },
            "type": "scatterpolargl"
           }
          ],
          "scatterternary": [
           {
            "marker": {
             "colorbar": {
              "outlinewidth": 0,
              "ticks": ""
             }
            },
            "type": "scatterternary"
           }
          ],
          "surface": [
           {
            "colorbar": {
             "outlinewidth": 0,
             "ticks": ""
            },
            "colorscale": [
             [
              0,
              "#0d0887"
             ],
             [
              0.1111111111111111,
              "#46039f"
             ],
             [
              0.2222222222222222,
              "#7201a8"
             ],
             [
              0.3333333333333333,
              "#9c179e"
             ],
             [
              0.4444444444444444,
              "#bd3786"
             ],
             [
              0.5555555555555556,
              "#d8576b"
             ],
             [
              0.6666666666666666,
              "#ed7953"
             ],
             [
              0.7777777777777778,
              "#fb9f3a"
             ],
             [
              0.8888888888888888,
              "#fdca26"
             ],
             [
              1,
              "#f0f921"
             ]
            ],
            "type": "surface"
           }
          ],
          "table": [
           {
            "cells": {
             "fill": {
              "color": "#EBF0F8"
             },
             "line": {
              "color": "white"
             }
            },
            "header": {
             "fill": {
              "color": "#C8D4E3"
             },
             "line": {
              "color": "white"
             }
            },
            "type": "table"
           }
          ]
         },
         "layout": {
          "annotationdefaults": {
           "arrowcolor": "#2a3f5f",
           "arrowhead": 0,
           "arrowwidth": 1
          },
          "autotypenumbers": "strict",
          "coloraxis": {
           "colorbar": {
            "outlinewidth": 0,
            "ticks": ""
           }
          },
          "colorscale": {
           "diverging": [
            [
             0,
             "#8e0152"
            ],
            [
             0.1,
             "#c51b7d"
            ],
            [
             0.2,
             "#de77ae"
            ],
            [
             0.3,
             "#f1b6da"
            ],
            [
             0.4,
             "#fde0ef"
            ],
            [
             0.5,
             "#f7f7f7"
            ],
            [
             0.6,
             "#e6f5d0"
            ],
            [
             0.7,
             "#b8e186"
            ],
            [
             0.8,
             "#7fbc41"
            ],
            [
             0.9,
             "#4d9221"
            ],
            [
             1,
             "#276419"
            ]
           ],
           "sequential": [
            [
             0,
             "#0d0887"
            ],
            [
             0.1111111111111111,
             "#46039f"
            ],
            [
             0.2222222222222222,
             "#7201a8"
            ],
            [
             0.3333333333333333,
             "#9c179e"
            ],
            [
             0.4444444444444444,
             "#bd3786"
            ],
            [
             0.5555555555555556,
             "#d8576b"
            ],
            [
             0.6666666666666666,
             "#ed7953"
            ],
            [
             0.7777777777777778,
             "#fb9f3a"
            ],
            [
             0.8888888888888888,
             "#fdca26"
            ],
            [
             1,
             "#f0f921"
            ]
           ],
           "sequentialminus": [
            [
             0,
             "#0d0887"
            ],
            [
             0.1111111111111111,
             "#46039f"
            ],
            [
             0.2222222222222222,
             "#7201a8"
            ],
            [
             0.3333333333333333,
             "#9c179e"
            ],
            [
             0.4444444444444444,
             "#bd3786"
            ],
            [
             0.5555555555555556,
             "#d8576b"
            ],
            [
             0.6666666666666666,
             "#ed7953"
            ],
            [
             0.7777777777777778,
             "#fb9f3a"
            ],
            [
             0.8888888888888888,
             "#fdca26"
            ],
            [
             1,
             "#f0f921"
            ]
           ]
          },
          "colorway": [
           "#636efa",
           "#EF553B",
           "#00cc96",
           "#ab63fa",
           "#FFA15A",
           "#19d3f3",
           "#FF6692",
           "#B6E880",
           "#FF97FF",
           "#FECB52"
          ],
          "font": {
           "color": "#2a3f5f"
          },
          "geo": {
           "bgcolor": "white",
           "lakecolor": "white",
           "landcolor": "#E5ECF6",
           "showlakes": true,
           "showland": true,
           "subunitcolor": "white"
          },
          "hoverlabel": {
           "align": "left"
          },
          "hovermode": "closest",
          "mapbox": {
           "style": "light"
          },
          "paper_bgcolor": "white",
          "plot_bgcolor": "#E5ECF6",
          "polar": {
           "angularaxis": {
            "gridcolor": "white",
            "linecolor": "white",
            "ticks": ""
           },
           "bgcolor": "#E5ECF6",
           "radialaxis": {
            "gridcolor": "white",
            "linecolor": "white",
            "ticks": ""
           }
          },
          "scene": {
           "xaxis": {
            "backgroundcolor": "#E5ECF6",
            "gridcolor": "white",
            "gridwidth": 2,
            "linecolor": "white",
            "showbackground": true,
            "ticks": "",
            "zerolinecolor": "white"
           },
           "yaxis": {
            "backgroundcolor": "#E5ECF6",
            "gridcolor": "white",
            "gridwidth": 2,
            "linecolor": "white",
            "showbackground": true,
            "ticks": "",
            "zerolinecolor": "white"
           },
           "zaxis": {
            "backgroundcolor": "#E5ECF6",
            "gridcolor": "white",
            "gridwidth": 2,
            "linecolor": "white",
            "showbackground": true,
            "ticks": "",
            "zerolinecolor": "white"
           }
          },
          "shapedefaults": {
           "line": {
            "color": "#2a3f5f"
           }
          },
          "ternary": {
           "aaxis": {
            "gridcolor": "white",
            "linecolor": "white",
            "ticks": ""
           },
           "baxis": {
            "gridcolor": "white",
            "linecolor": "white",
            "ticks": ""
           },
           "bgcolor": "#E5ECF6",
           "caxis": {
            "gridcolor": "white",
            "linecolor": "white",
            "ticks": ""
           }
          },
          "title": {
           "x": 0.05
          },
          "xaxis": {
           "automargin": true,
           "gridcolor": "white",
           "linecolor": "white",
           "ticks": "",
           "title": {
            "standoff": 15
           },
           "zerolinecolor": "white",
           "zerolinewidth": 2
          },
          "yaxis": {
           "automargin": true,
           "gridcolor": "white",
           "linecolor": "white",
           "ticks": "",
           "title": {
            "standoff": 15
           },
           "zerolinecolor": "white",
           "zerolinewidth": 2
          }
         }
        },
        "title": {
         "text": "MAPE vs Model",
         "x": 0.5,
         "xanchor": "center",
         "y": 0.94,
         "yanchor": "top"
        },
        "xaxis": {
         "anchor": "y",
         "domain": [
          0,
          1
         ],
         "rangeslider": {
          "visible": false
         },
         "title": {
          "text": "Model"
         }
        },
        "yaxis": {
         "anchor": "x",
         "domain": [
          0,
          1
         ],
         "title": {
          "text": "MAPE Score"
         }
        }
       }
      }
     },
     "metadata": {},
     "output_type": "display_data"
    }
   ],
   "source": [
    "line = px.line(data_frame = df_models.sort_values('MAPE', ascending=False),y =['MAPE'], markers = True)\n",
    "line.update_xaxes(title=\"Model\", rangeslider_visible = False)\n",
    "line.update_yaxes(title = \"MAPE Score\")\n",
    "line.update_traces(line_color=\"blue\")\n",
    "line.update_layout(showlegend = True,\n",
    "                   title = {\n",
    "                       'text': 'MAPE vs Model',\n",
    "                       'y':0.94,\n",
    "                       'x':0.5,\n",
    "                       'xanchor': 'center',\n",
    "                       'yanchor': 'top'})\n",
    "\n",
    "line.show()"
   ]
  },
  {
   "cell_type": "code",
   "execution_count": 238,
   "metadata": {},
   "outputs": [
    {
     "data": {
      "application/vnd.plotly.v1+json": {
       "config": {
        "plotlyServerURL": "https://plot.ly"
       },
       "data": [
        {
         "hovertemplate": "variable=Standart Deviation<br>Name=%{x}<br>value=%{y}<extra></extra>",
         "legendgroup": "Standart Deviation",
         "line": {
          "color": "purple",
          "dash": "solid"
         },
         "marker": {
          "symbol": "circle"
         },
         "mode": "markers+lines",
         "name": "Standart Deviation",
         "orientation": "v",
         "showlegend": true,
         "type": "scatter",
         "x": [
          "LogisticRegression",
          "GaussianNB",
          "MultinomialNB",
          "SGDClassifier",
          "GradientBoostingClassifier",
          "LGBMClassifier",
          "Stacking",
          "XGBClassifier",
          "DecisionTreeClassifier",
          "RandomForestClassifier",
          "SVC"
         ],
         "xaxis": "x",
         "y": [
          0.003842818698104729,
          0.003842818698104729,
          0.003842818698104729,
          0.003842818698104729,
          0.003842818698104729,
          0.003842818698104729,
          0.003842818698104729,
          472618518244.0762,
          5041002228153.881,
          5799014941073.912,
          45628838265558.96
         ],
         "yaxis": "y"
        }
       ],
       "layout": {
        "legend": {
         "title": {
          "text": "variable"
         },
         "tracegroupgap": 0
        },
        "margin": {
         "t": 60
        },
        "showlegend": true,
        "template": {
         "data": {
          "bar": [
           {
            "error_x": {
             "color": "#2a3f5f"
            },
            "error_y": {
             "color": "#2a3f5f"
            },
            "marker": {
             "line": {
              "color": "#E5ECF6",
              "width": 0.5
             },
             "pattern": {
              "fillmode": "overlay",
              "size": 10,
              "solidity": 0.2
             }
            },
            "type": "bar"
           }
          ],
          "barpolar": [
           {
            "marker": {
             "line": {
              "color": "#E5ECF6",
              "width": 0.5
             },
             "pattern": {
              "fillmode": "overlay",
              "size": 10,
              "solidity": 0.2
             }
            },
            "type": "barpolar"
           }
          ],
          "carpet": [
           {
            "aaxis": {
             "endlinecolor": "#2a3f5f",
             "gridcolor": "white",
             "linecolor": "white",
             "minorgridcolor": "white",
             "startlinecolor": "#2a3f5f"
            },
            "baxis": {
             "endlinecolor": "#2a3f5f",
             "gridcolor": "white",
             "linecolor": "white",
             "minorgridcolor": "white",
             "startlinecolor": "#2a3f5f"
            },
            "type": "carpet"
           }
          ],
          "choropleth": [
           {
            "colorbar": {
             "outlinewidth": 0,
             "ticks": ""
            },
            "type": "choropleth"
           }
          ],
          "contour": [
           {
            "colorbar": {
             "outlinewidth": 0,
             "ticks": ""
            },
            "colorscale": [
             [
              0,
              "#0d0887"
             ],
             [
              0.1111111111111111,
              "#46039f"
             ],
             [
              0.2222222222222222,
              "#7201a8"
             ],
             [
              0.3333333333333333,
              "#9c179e"
             ],
             [
              0.4444444444444444,
              "#bd3786"
             ],
             [
              0.5555555555555556,
              "#d8576b"
             ],
             [
              0.6666666666666666,
              "#ed7953"
             ],
             [
              0.7777777777777778,
              "#fb9f3a"
             ],
             [
              0.8888888888888888,
              "#fdca26"
             ],
             [
              1,
              "#f0f921"
             ]
            ],
            "type": "contour"
           }
          ],
          "contourcarpet": [
           {
            "colorbar": {
             "outlinewidth": 0,
             "ticks": ""
            },
            "type": "contourcarpet"
           }
          ],
          "heatmap": [
           {
            "colorbar": {
             "outlinewidth": 0,
             "ticks": ""
            },
            "colorscale": [
             [
              0,
              "#0d0887"
             ],
             [
              0.1111111111111111,
              "#46039f"
             ],
             [
              0.2222222222222222,
              "#7201a8"
             ],
             [
              0.3333333333333333,
              "#9c179e"
             ],
             [
              0.4444444444444444,
              "#bd3786"
             ],
             [
              0.5555555555555556,
              "#d8576b"
             ],
             [
              0.6666666666666666,
              "#ed7953"
             ],
             [
              0.7777777777777778,
              "#fb9f3a"
             ],
             [
              0.8888888888888888,
              "#fdca26"
             ],
             [
              1,
              "#f0f921"
             ]
            ],
            "type": "heatmap"
           }
          ],
          "heatmapgl": [
           {
            "colorbar": {
             "outlinewidth": 0,
             "ticks": ""
            },
            "colorscale": [
             [
              0,
              "#0d0887"
             ],
             [
              0.1111111111111111,
              "#46039f"
             ],
             [
              0.2222222222222222,
              "#7201a8"
             ],
             [
              0.3333333333333333,
              "#9c179e"
             ],
             [
              0.4444444444444444,
              "#bd3786"
             ],
             [
              0.5555555555555556,
              "#d8576b"
             ],
             [
              0.6666666666666666,
              "#ed7953"
             ],
             [
              0.7777777777777778,
              "#fb9f3a"
             ],
             [
              0.8888888888888888,
              "#fdca26"
             ],
             [
              1,
              "#f0f921"
             ]
            ],
            "type": "heatmapgl"
           }
          ],
          "histogram": [
           {
            "marker": {
             "pattern": {
              "fillmode": "overlay",
              "size": 10,
              "solidity": 0.2
             }
            },
            "type": "histogram"
           }
          ],
          "histogram2d": [
           {
            "colorbar": {
             "outlinewidth": 0,
             "ticks": ""
            },
            "colorscale": [
             [
              0,
              "#0d0887"
             ],
             [
              0.1111111111111111,
              "#46039f"
             ],
             [
              0.2222222222222222,
              "#7201a8"
             ],
             [
              0.3333333333333333,
              "#9c179e"
             ],
             [
              0.4444444444444444,
              "#bd3786"
             ],
             [
              0.5555555555555556,
              "#d8576b"
             ],
             [
              0.6666666666666666,
              "#ed7953"
             ],
             [
              0.7777777777777778,
              "#fb9f3a"
             ],
             [
              0.8888888888888888,
              "#fdca26"
             ],
             [
              1,
              "#f0f921"
             ]
            ],
            "type": "histogram2d"
           }
          ],
          "histogram2dcontour": [
           {
            "colorbar": {
             "outlinewidth": 0,
             "ticks": ""
            },
            "colorscale": [
             [
              0,
              "#0d0887"
             ],
             [
              0.1111111111111111,
              "#46039f"
             ],
             [
              0.2222222222222222,
              "#7201a8"
             ],
             [
              0.3333333333333333,
              "#9c179e"
             ],
             [
              0.4444444444444444,
              "#bd3786"
             ],
             [
              0.5555555555555556,
              "#d8576b"
             ],
             [
              0.6666666666666666,
              "#ed7953"
             ],
             [
              0.7777777777777778,
              "#fb9f3a"
             ],
             [
              0.8888888888888888,
              "#fdca26"
             ],
             [
              1,
              "#f0f921"
             ]
            ],
            "type": "histogram2dcontour"
           }
          ],
          "mesh3d": [
           {
            "colorbar": {
             "outlinewidth": 0,
             "ticks": ""
            },
            "type": "mesh3d"
           }
          ],
          "parcoords": [
           {
            "line": {
             "colorbar": {
              "outlinewidth": 0,
              "ticks": ""
             }
            },
            "type": "parcoords"
           }
          ],
          "pie": [
           {
            "automargin": true,
            "type": "pie"
           }
          ],
          "scatter": [
           {
            "fillpattern": {
             "fillmode": "overlay",
             "size": 10,
             "solidity": 0.2
            },
            "type": "scatter"
           }
          ],
          "scatter3d": [
           {
            "line": {
             "colorbar": {
              "outlinewidth": 0,
              "ticks": ""
             }
            },
            "marker": {
             "colorbar": {
              "outlinewidth": 0,
              "ticks": ""
             }
            },
            "type": "scatter3d"
           }
          ],
          "scattercarpet": [
           {
            "marker": {
             "colorbar": {
              "outlinewidth": 0,
              "ticks": ""
             }
            },
            "type": "scattercarpet"
           }
          ],
          "scattergeo": [
           {
            "marker": {
             "colorbar": {
              "outlinewidth": 0,
              "ticks": ""
             }
            },
            "type": "scattergeo"
           }
          ],
          "scattergl": [
           {
            "marker": {
             "colorbar": {
              "outlinewidth": 0,
              "ticks": ""
             }
            },
            "type": "scattergl"
           }
          ],
          "scattermapbox": [
           {
            "marker": {
             "colorbar": {
              "outlinewidth": 0,
              "ticks": ""
             }
            },
            "type": "scattermapbox"
           }
          ],
          "scatterpolar": [
           {
            "marker": {
             "colorbar": {
              "outlinewidth": 0,
              "ticks": ""
             }
            },
            "type": "scatterpolar"
           }
          ],
          "scatterpolargl": [
           {
            "marker": {
             "colorbar": {
              "outlinewidth": 0,
              "ticks": ""
             }
            },
            "type": "scatterpolargl"
           }
          ],
          "scatterternary": [
           {
            "marker": {
             "colorbar": {
              "outlinewidth": 0,
              "ticks": ""
             }
            },
            "type": "scatterternary"
           }
          ],
          "surface": [
           {
            "colorbar": {
             "outlinewidth": 0,
             "ticks": ""
            },
            "colorscale": [
             [
              0,
              "#0d0887"
             ],
             [
              0.1111111111111111,
              "#46039f"
             ],
             [
              0.2222222222222222,
              "#7201a8"
             ],
             [
              0.3333333333333333,
              "#9c179e"
             ],
             [
              0.4444444444444444,
              "#bd3786"
             ],
             [
              0.5555555555555556,
              "#d8576b"
             ],
             [
              0.6666666666666666,
              "#ed7953"
             ],
             [
              0.7777777777777778,
              "#fb9f3a"
             ],
             [
              0.8888888888888888,
              "#fdca26"
             ],
             [
              1,
              "#f0f921"
             ]
            ],
            "type": "surface"
           }
          ],
          "table": [
           {
            "cells": {
             "fill": {
              "color": "#EBF0F8"
             },
             "line": {
              "color": "white"
             }
            },
            "header": {
             "fill": {
              "color": "#C8D4E3"
             },
             "line": {
              "color": "white"
             }
            },
            "type": "table"
           }
          ]
         },
         "layout": {
          "annotationdefaults": {
           "arrowcolor": "#2a3f5f",
           "arrowhead": 0,
           "arrowwidth": 1
          },
          "autotypenumbers": "strict",
          "coloraxis": {
           "colorbar": {
            "outlinewidth": 0,
            "ticks": ""
           }
          },
          "colorscale": {
           "diverging": [
            [
             0,
             "#8e0152"
            ],
            [
             0.1,
             "#c51b7d"
            ],
            [
             0.2,
             "#de77ae"
            ],
            [
             0.3,
             "#f1b6da"
            ],
            [
             0.4,
             "#fde0ef"
            ],
            [
             0.5,
             "#f7f7f7"
            ],
            [
             0.6,
             "#e6f5d0"
            ],
            [
             0.7,
             "#b8e186"
            ],
            [
             0.8,
             "#7fbc41"
            ],
            [
             0.9,
             "#4d9221"
            ],
            [
             1,
             "#276419"
            ]
           ],
           "sequential": [
            [
             0,
             "#0d0887"
            ],
            [
             0.1111111111111111,
             "#46039f"
            ],
            [
             0.2222222222222222,
             "#7201a8"
            ],
            [
             0.3333333333333333,
             "#9c179e"
            ],
            [
             0.4444444444444444,
             "#bd3786"
            ],
            [
             0.5555555555555556,
             "#d8576b"
            ],
            [
             0.6666666666666666,
             "#ed7953"
            ],
            [
             0.7777777777777778,
             "#fb9f3a"
            ],
            [
             0.8888888888888888,
             "#fdca26"
            ],
            [
             1,
             "#f0f921"
            ]
           ],
           "sequentialminus": [
            [
             0,
             "#0d0887"
            ],
            [
             0.1111111111111111,
             "#46039f"
            ],
            [
             0.2222222222222222,
             "#7201a8"
            ],
            [
             0.3333333333333333,
             "#9c179e"
            ],
            [
             0.4444444444444444,
             "#bd3786"
            ],
            [
             0.5555555555555556,
             "#d8576b"
            ],
            [
             0.6666666666666666,
             "#ed7953"
            ],
            [
             0.7777777777777778,
             "#fb9f3a"
            ],
            [
             0.8888888888888888,
             "#fdca26"
            ],
            [
             1,
             "#f0f921"
            ]
           ]
          },
          "colorway": [
           "#636efa",
           "#EF553B",
           "#00cc96",
           "#ab63fa",
           "#FFA15A",
           "#19d3f3",
           "#FF6692",
           "#B6E880",
           "#FF97FF",
           "#FECB52"
          ],
          "font": {
           "color": "#2a3f5f"
          },
          "geo": {
           "bgcolor": "white",
           "lakecolor": "white",
           "landcolor": "#E5ECF6",
           "showlakes": true,
           "showland": true,
           "subunitcolor": "white"
          },
          "hoverlabel": {
           "align": "left"
          },
          "hovermode": "closest",
          "mapbox": {
           "style": "light"
          },
          "paper_bgcolor": "white",
          "plot_bgcolor": "#E5ECF6",
          "polar": {
           "angularaxis": {
            "gridcolor": "white",
            "linecolor": "white",
            "ticks": ""
           },
           "bgcolor": "#E5ECF6",
           "radialaxis": {
            "gridcolor": "white",
            "linecolor": "white",
            "ticks": ""
           }
          },
          "scene": {
           "xaxis": {
            "backgroundcolor": "#E5ECF6",
            "gridcolor": "white",
            "gridwidth": 2,
            "linecolor": "white",
            "showbackground": true,
            "ticks": "",
            "zerolinecolor": "white"
           },
           "yaxis": {
            "backgroundcolor": "#E5ECF6",
            "gridcolor": "white",
            "gridwidth": 2,
            "linecolor": "white",
            "showbackground": true,
            "ticks": "",
            "zerolinecolor": "white"
           },
           "zaxis": {
            "backgroundcolor": "#E5ECF6",
            "gridcolor": "white",
            "gridwidth": 2,
            "linecolor": "white",
            "showbackground": true,
            "ticks": "",
            "zerolinecolor": "white"
           }
          },
          "shapedefaults": {
           "line": {
            "color": "#2a3f5f"
           }
          },
          "ternary": {
           "aaxis": {
            "gridcolor": "white",
            "linecolor": "white",
            "ticks": ""
           },
           "baxis": {
            "gridcolor": "white",
            "linecolor": "white",
            "ticks": ""
           },
           "bgcolor": "#E5ECF6",
           "caxis": {
            "gridcolor": "white",
            "linecolor": "white",
            "ticks": ""
           }
          },
          "title": {
           "x": 0.05
          },
          "xaxis": {
           "automargin": true,
           "gridcolor": "white",
           "linecolor": "white",
           "ticks": "",
           "title": {
            "standoff": 15
           },
           "zerolinecolor": "white",
           "zerolinewidth": 2
          },
          "yaxis": {
           "automargin": true,
           "gridcolor": "white",
           "linecolor": "white",
           "ticks": "",
           "title": {
            "standoff": 15
           },
           "zerolinecolor": "white",
           "zerolinewidth": 2
          }
         }
        },
        "title": {
         "text": "Standart Deviation vs Model",
         "x": 0.5,
         "xanchor": "center",
         "y": 0.94,
         "yanchor": "top"
        },
        "xaxis": {
         "anchor": "y",
         "domain": [
          0,
          1
         ],
         "rangeslider": {
          "visible": false
         },
         "title": {
          "text": "Model"
         }
        },
        "yaxis": {
         "anchor": "x",
         "domain": [
          0,
          1
         ],
         "title": {
          "text": "Standart Deviation"
         }
        }
       }
      }
     },
     "metadata": {},
     "output_type": "display_data"
    }
   ],
   "source": [
    "line = px.line(data_frame = df_models.sort_values('Standart Deviation', ascending=True),y =['Standart Deviation'], markers = True)\n",
    "line.update_xaxes(title=\"Model\", rangeslider_visible = False)\n",
    "line.update_yaxes(title = \"Standart Deviation\")\n",
    "line.update_traces(line_color=\"purple\")\n",
    "line.update_layout(showlegend = True,\n",
    "                   title = {\n",
    "                       'text': 'Standart Deviation vs Model',\n",
    "                       'y':0.94,\n",
    "                       'x':0.5,\n",
    "                       'xanchor': 'center',\n",
    "                       'yanchor': 'top'})\n",
    "\n",
    "line.show()"
   ]
  },
  {
   "cell_type": "markdown",
   "metadata": {},
   "source": [
    "# Modeling"
   ]
  },
  {
   "cell_type": "code",
   "execution_count": 239,
   "metadata": {},
   "outputs": [
    {
     "name": "stdout",
     "output_type": "stream",
     "text": [
      "Best: 0.935453 using {'C': 100, 'penalty': 'l2', 'solver': 'newton-cg'}\n",
      "0.935453 (0.000090) with: {'C': 100, 'penalty': 'l2', 'solver': 'newton-cg'}\n",
      "0.935453 (0.000090) with: {'C': 100, 'penalty': 'l2', 'solver': 'lbfgs'}\n",
      "0.935453 (0.000090) with: {'C': 100, 'penalty': 'l2', 'solver': 'liblinear'}\n",
      "0.935453 (0.000090) with: {'C': 10, 'penalty': 'l2', 'solver': 'newton-cg'}\n",
      "0.935453 (0.000090) with: {'C': 10, 'penalty': 'l2', 'solver': 'lbfgs'}\n",
      "0.935453 (0.000090) with: {'C': 10, 'penalty': 'l2', 'solver': 'liblinear'}\n",
      "0.935453 (0.000090) with: {'C': 1.0, 'penalty': 'l2', 'solver': 'newton-cg'}\n",
      "0.935453 (0.000090) with: {'C': 1.0, 'penalty': 'l2', 'solver': 'lbfgs'}\n",
      "0.935453 (0.000090) with: {'C': 1.0, 'penalty': 'l2', 'solver': 'liblinear'}\n",
      "0.935453 (0.000090) with: {'C': 0.1, 'penalty': 'l2', 'solver': 'newton-cg'}\n",
      "0.935453 (0.000090) with: {'C': 0.1, 'penalty': 'l2', 'solver': 'lbfgs'}\n",
      "0.935453 (0.000090) with: {'C': 0.1, 'penalty': 'l2', 'solver': 'liblinear'}\n",
      "0.935453 (0.000090) with: {'C': 0.01, 'penalty': 'l2', 'solver': 'newton-cg'}\n",
      "0.935453 (0.000090) with: {'C': 0.01, 'penalty': 'l2', 'solver': 'lbfgs'}\n",
      "0.935453 (0.000090) with: {'C': 0.01, 'penalty': 'l2', 'solver': 'liblinear'}\n"
     ]
    }
   ],
   "source": [
    "# Defining the base models\n",
    "# level0 = list()\n",
    "# level0.append(('MultinomialNB', MultinomialNB()))\n",
    "# level0.append(('GaussianNB', GaussianNB()))\n",
    "# level0.append(('SGDClassifier', SGDClassifier()))\n",
    "# level1 = LogisticRegression()\n",
    "# model = StackingClassifier(estimators=level0, final_estimator=level1, cv=5)\n",
    "\n",
    "\n",
    "model = LogisticRegression()\n",
    "\n",
    "solvers = ['newton-cg', 'lbfgs', 'liblinear']\n",
    "penalty = ['l2']\n",
    "c_values = [100, 10, 1.0, 0.1, 0.01]\n",
    "\n",
    "grid = dict(solver=solvers,penalty=penalty,C=c_values)\n",
    "cv = RepeatedStratifiedKFold(n_splits=10, n_repeats=3, random_state=1)\n",
    "grid_search = GridSearchCV(estimator=model, param_grid=grid, n_jobs=-1, cv=cv, scoring='accuracy',error_score=0)\n",
    "grid_result = grid_search.fit(train_df.drop('default_12m', axis=1), train_df['default_12m'])\n",
    "# summarize results\n",
    "print(\"Best: %f using %s\" % (grid_result.best_score_, grid_result.best_params_))\n",
    "means = grid_result.cv_results_['mean_test_score']\n",
    "stds = grid_result.cv_results_['std_test_score']\n",
    "params = grid_result.cv_results_['params']\n",
    "for mean, stdev, param in zip(means, stds, params):\n",
    "    print(\"%f (%f) with: %r\" % (mean, stdev, param))"
   ]
  },
  {
   "cell_type": "code",
   "execution_count": 240,
   "metadata": {},
   "outputs": [
    {
     "name": "stdout",
     "output_type": "stream",
     "text": [
      "Predicted Values: [0 0 0 0 0 0 0 0 0 0 0 0 0 0 0 0 0 0 0 0 0 0 0 0 0 0 0 0 0 0 0 0 0 0 0 0 0\n",
      " 0 0 0 0 0 0 0 0 0 0 0 0 0 0 0 0 0 0 0 0 0 0 0 0 0 0 0 0 0 0 0 0 0 0 0 0 0\n",
      " 0 0 0 0 0 0 0 0 0 0 0 0 0 0 0 0 0 0 0 0 0 0 0 0 0 0 0 0 0 0 0 0 0 0 0 0 0\n",
      " 0 0 0 0 0 0 0 0 0 0 0 0 0 0 0 0 0 0 0 0 0 0 0 0 0 0 0 0 0 0 0 0 0 0 0 0 0\n",
      " 0 0 0 0 0 0 0 0 0 0 0 0 0 0 0 0 0 0 0 0 0 0 0 0 0 0 0 0 0 0 0 0 0 0 0 0 0\n",
      " 0 0 0 0 0 0 0 0 0 0 0 0 0 0 0]\n"
     ]
    }
   ],
   "source": [
    "model = LogisticRegression(C=100, penalty='l2', solver='newton-cg')\n",
    "\n",
    "model.fit(train_df.drop('default_12m', axis=1), train_df['default_12m'])\n",
    "# Predict the results\n",
    "predictions = model.predict(test_df)\n",
    "print(\"Predicted Values:\", predictions)"
   ]
  },
  {
   "cell_type": "code",
   "execution_count": 241,
   "metadata": {},
   "outputs": [],
   "source": [
    "answ_df = pd.DataFrame()\n",
    "answ_df['id'] = test_record_id\n",
    "predict = pd.DataFrame([math.floor(float(x)) for x in (predictions*100)])\n",
    "answ_df['predict'] = predict\n",
    "answ_df.to_csv('PD-submit.csv',index=False, sep=';')"
   ]
  }
 ],
 "metadata": {
  "kernelspec": {
   "display_name": "Python 3.7.13 ('dl')",
   "language": "python",
   "name": "python3"
  },
  "language_info": {
   "codemirror_mode": {
    "name": "ipython",
    "version": 3
   },
   "file_extension": ".py",
   "mimetype": "text/x-python",
   "name": "python",
   "nbconvert_exporter": "python",
   "pygments_lexer": "ipython3",
   "version": "3.7.13"
  },
  "orig_nbformat": 4,
  "vscode": {
   "interpreter": {
    "hash": "e3598312d0c82d650aa00364d86046c746c035d5599150564801061febc7d848"
   }
  }
 },
 "nbformat": 4,
 "nbformat_minor": 2
}
